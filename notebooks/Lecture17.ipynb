{
 "cells": [
  {
   "cell_type": "markdown",
   "metadata": {},
   "source": [
    "# Lecture 17: Clustering (Unsupervised Classification)"
   ]
  },
  {
   "cell_type": "markdown",
   "metadata": {},
   "source": [
    "#### This notebook was developed by [Zeljko Ivezic](http://faculty.washington.edu/ivezic/) for the 2021 data science class at the University of Sao Paulo and it is available from [github](https://github.com/ivezic/SaoPaulo2021/blob/main/notebooks/Lecture17.ipynb).\n",
    "\n",
    "Note: this notebook contains code developed by Z. Ivezic, M. Juric, A. Connolly, B. Sippocz, Jake VanderPlas, G. Richards and many others."
   ]
  },
  {
   "cell_type": "markdown",
   "metadata": {},
   "source": [
    "##### Resources for this notebook include:\n",
    "- [Textbook](http://press.princeton.edu/titles/10159.html) Chapters 6 and 9."
   ]
  },
  {
   "cell_type": "markdown",
   "metadata": {},
   "source": [
    "<a id='toc'></a>\n",
    "\n",
    "## This notebook includes:\n",
    " \n",
    "\n",
    "[Introduction to Clustering](#intro)\n",
    "- unsupervised vs. supervised classification\n",
    "- 1-D hypothesis testing                                           \n",
    "- clustering with Gaussian Mixture models (GMM)   \n",
    "- K-means clustering algorithm\n",
    "- hierarchical clustering algorithm \n",
    "   \n",
    "[Discussion of Term Project](#project)\n",
    " "
   ]
  },
  {
   "cell_type": "markdown",
   "metadata": {},
   "source": [
    "\n",
    "## Introduction to Clustering <a id='basics'></a>\n",
    "[Go to top](#toc)"
   ]
  },
  {
   "cell_type": "markdown",
   "metadata": {},
   "source": [
    "### Clustering\n",
    "\n",
    "“Clustering” in astronomy refers to a number of different aspects of data analysis. Given a multivariate point data set, we can ask whether it displays any structure, that is, concentrations of points. Alternatively, when a density estimate is available we can search for “overdensities”. Another way to interpret clustering is to seek a partitioning or segmentation of data into smaller parts according to some criteria. \n",
    "\n",
    "Recall that in Activity 8 yesterday we had a simple 1-D example of\n",
    "using Gaussian Mixture Model and BIC to study the impact of sample size and measurement errors on ability to recognize structure in data. We were doing clustering even without knowing it!\n",
    "\n",
    "Here is an illustration of clustering in 2-D space:\n",
    "\n",
    "![](figures/2Dclustering.png)"
   ]
  },
  {
   "cell_type": "markdown",
   "metadata": {},
   "source": [
    "### Unsupervised vs. Supervised Classification  \n",
    "\n",
    "In density estimation, we estimate joint probability distributions from multivariate data sets to identify the inherent clustering. This is essentially **unsupervised classification**. Here “unsupervised” means that there is no prior information about the number and properties of clusters.\n",
    "In other words, this method is search for unknown structure in your (multi-dimensional) dataset.\n",
    "\n",
    "If we have labels for some of these data points (e.g., an object is tall, short, red, or blue), we can develop a relationship between the label and the properties of a source. This is **supervised classification**. In other words, this method is finding objects in \n",
    "your (multi-dimensional) dataset that \"look like\" objects in your training set. \n",
    "\n",
    "Classification, regression, and density estimation are all related. For example, the regression function $\\hat{y} = f(y|\\vec{x})$ is the best estimated value of $y$ given a value of $\\vec{x}$. In classification $y$ is categorical and $f(y|\\vec{x})$ is called the _discriminant function_\n",
    " "
   ]
  },
  {
   "cell_type": "markdown",
   "metadata": {},
   "source": [
    "##  1-D hypothesis testing <a id='1Dht'></a>\n",
    "[Go to top](#toc)\n",
    "\n",
    "How do we decide about the existance of a cluster? Let's start with\n",
    "the simplest but fundamental example: 1-D hypothesis testing.\n",
    "\n",
    "\n",
    "**Motivating question:** You just measured x = 3, with a negligible measurement error.\n",
    "\n",
    "You know that you could have drawn this value from one of two possible populations (e.g. stars and galaxies). One population can be described as N(0,2), and the other one as N(4,1). \n",
    "\n",
    "Which population is more likely, given your x?  \n",
    "\n",
    "Naive (wrong) answer: 3 is closer to 4 (1 \"sigma away\") than to 0\n",
    "(1.5 \"sigma away\") so the second population is more likely.\n",
    "\n",
    "Let's see why this answer is wrong...\n",
    " "
   ]
  },
  {
   "cell_type": "markdown",
   "metadata": {},
   "source": [
    "![](figures/1Dht.png) "
   ]
  },
  {
   "cell_type": "markdown",
   "metadata": {},
   "source": [
    "![](figures/1Dht2.png) "
   ]
  },
  {
   "cell_type": "markdown",
   "metadata": {},
   "source": [
    "![](figures/1Dht3.png) "
   ]
  },
  {
   "cell_type": "markdown",
   "metadata": {},
   "source": [
    "![](figures/1Dht4.png) "
   ]
  },
  {
   "cell_type": "markdown",
   "metadata": {},
   "source": [
    "## Clustering with Gaussian Mixture models (GMM)\n",
    "\n",
    "We already addressed Gaussian Mixture models in Lecture 15 about Density Estimation and in Activity 8 (1-D example).\n",
    "\n",
    "We will see two more illustrative multi-dimensional examples later today in Activity 9. "
   ]
  },
  {
   "cell_type": "markdown",
   "metadata": {},
   "source": [
    "## K-means clustering algorithm\n",
    "\n",
    "![](figures/Kmeans.png) "
   ]
  },
  {
   "cell_type": "markdown",
   "metadata": {},
   "source": [
    "![](figures/Kmeans2.png) "
   ]
  },
  {
   "cell_type": "markdown",
   "metadata": {},
   "source": [
    "## Hierarchical clustering algorithm\n",
    "\n",
    "\n",
    "![](figures/hc1.png) "
   ]
  },
  {
   "cell_type": "markdown",
   "metadata": {},
   "source": [
    "![](figures/hc2.png) \n",
    "\n",
    "\n",
    "### We will apply this method to a real dataset later today in Activity 9. \n",
    "\n"
   ]
  },
  {
   "cell_type": "markdown",
   "metadata": {},
   "source": [
    "## Discussion of Term Project <a id='project'></a>\n",
    "[Go to top](#toc)\n",
    "\n",
    "\n",
    "As you probably already know, your grade in this class will include a term project component. You will have about four weeks\n",
    "to apply your knowledge to a real dataset and thus demonstrate your mastery of the subject. \n",
    "\n",
    "** The submission deadline is Aug 28, midnight Sao Paulo time. ** \n",
    "\n",
    "Our last day of instruction will be Monday, Aug 23, and you will able to ask me last-minute questions. In addition, I will be available for discussion of your term project (and other class material) on Aug 20 and Aug 24 (9am Sao Paulo time).\n",
    "\n",
    "### What do you need to do? \n",
    "\n",
    "There are only two requirements for your project:\n",
    "- it needs to be based on S-PLUS data \n",
    "- it needs to apply at least one of the methods we covered in these lectures (regression, density estimation, dimensionality reduction, clustering, classification)\n",
    " \n",
    "Each submitted notebook should start with a description of what you did (what question did you ask, how did you select your data, which \n",
    "algorithm you used and why, and what you concluded). Your code needs\n",
    "to be runnable (after receiving submission, I will run your notebook\n",
    "on my machine; please do not introduce new dependencies without a strong reason and if so, please emphasize it at the start of the notebook). \n",
    "\n",
    "Please email me (ivezic@uw.edu) **link** to your notebook by Aug 28. Preferred method\n",
    "is to use your GitHub account, but other means (such as Dropbox) will\n",
    "be fine, too. \n",
    "\n",
    "You can find out **how to access S-PLUS data**, including examples of queries, at [splus.cloud](https://deepnote.com/project/S-PLUS-Meeting-1-3-June-2021-i5mav_NUQgO148fIhCC31A/%2FTutorial.ipynb)\n"
   ]
  },
  {
   "cell_type": "code",
   "execution_count": null,
   "metadata": {},
   "outputs": [],
   "source": []
  }
 ],
 "metadata": {
  "kernelspec": {
   "display_name": "Python 3",
   "language": "python",
   "name": "python3"
  },
  "language_info": {
   "codemirror_mode": {
    "name": "ipython",
    "version": 3
   },
   "file_extension": ".py",
   "mimetype": "text/x-python",
   "name": "python",
   "nbconvert_exporter": "python",
   "pygments_lexer": "ipython3",
   "version": "3.7.4"
  }
 },
 "nbformat": 4,
 "nbformat_minor": 1
}
