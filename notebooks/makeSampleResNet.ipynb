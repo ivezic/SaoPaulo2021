{
 "cells": [
  {
   "cell_type": "markdown",
   "metadata": {
    "id": "ndgyRgDGVeln"
   },
   "source": [
    "## Generate stamps with adequate SNR distribution \n",
    "### (assumes SNR>SNRmin and Euclidean counts; input for ResNet example) \n",
    "\n",
    "<a id='toc'></a>\n",
    "\n",
    "\n",
    "[Go to the start of sample generation](#sample) \n",
    " \n",
    " \n",
    "#### This notebook was developed by [Zeljko Ivezic](http://faculty.washington.edu/ivezic/) for the 2021 data science class at the University of Sao Paulo and it is available from [github](https://github.com/ivezic/SaoPaulo2021/blob/main/notebooks/makeSampleResNet.ipynb)."
   ]
  },
  {
   "cell_type": "code",
   "execution_count": 151,
   "metadata": {
    "id": "jvK0fXvpVelu"
   },
   "outputs": [],
   "source": [
    "%matplotlib inline\n",
    "\n",
    "import os\n",
    "import numpy as np\n",
    "import math\n",
    "import matplotlib\n",
    "import matplotlib.pyplot as plt\n",
    "from scipy.stats.distributions import rv_continuous\n",
    "\n",
    "from astropy.io import fits \n",
    "\n",
    "plt.rc(\"lines\", linewidth=1)\n",
    "plt.rc(\"figure\", dpi=170) "
   ]
  },
  {
   "cell_type": "code",
   "execution_count": 152,
   "metadata": {
    "id": "wwP_C3EGVelw"
   },
   "outputs": [],
   "source": [
    "# \"stolen\" from astroML  (file $(astroMLdir)/astroML/stats/random.py)\n",
    "#----------------------------------------------------------------------\n",
    "# Define some new distributions based on rv_continuous\n",
    "class trunc_exp_gen(rv_continuous):\n",
    "    \"\"\"A truncated positive exponential continuous random variable.\n",
    "\n",
    "    The probability distribution is::\n",
    "\n",
    "       p(x) ~ exp(k * x)   between a and b\n",
    "            = 0            otherwise\n",
    "\n",
    "    The arguments are (a, b, k)\n",
    "\n",
    "    %(before_notes)s\n",
    "\n",
    "    %(example)s\n",
    "\n",
    "    \"\"\"\n",
    "    def _argcheck(self, a, b, k):\n",
    "        self._const = k / (np.exp(k * b) - np.exp(k * a))\n",
    "        return (a != b) and not np.isinf(k)\n",
    "\n",
    "    def _pdf(self, x, a, b, k):\n",
    "        pdf = self._const * np.exp(k * x)\n",
    "        pdf[(x < a) | (x > b)] = 0\n",
    "        return pdf\n",
    "\n",
    "    def _rvs(self, a, b, k):\n",
    "        y = np.random.random(self._size)\n",
    "        return (1. / k) * np.log(1 + y * k / self._const)\n",
    "\n",
    "trunc_exp = trunc_exp_gen(name=\"trunc_exp\", shapes='a, b, k')"
   ]
  },
  {
   "cell_type": "code",
   "execution_count": 153,
   "metadata": {
    "id": "ErMf3BoBVelx"
   },
   "outputs": [],
   "source": [
    "def showStamp(image):\n",
    "    plt.figure(figsize=(2.5, 2.5))\n",
    "    plt.imshow(np.flipud(image), vmin=np.min(image), vmax=1.05*np.max(image))\n",
    "    return\n",
    "\n",
    "# given stamp data, return stamp (image)\n",
    "def getStamp(oneDpixels, sD):\n",
    "    # make noiseless image size given by 1Dpixels)\n",
    "    nonoise = gauss2Delliptical(sD['muX'], sD['muY'], sD['sig1'], sD['sig2'], sD['alphaDeg'], \\\n",
    "                 sD['Counts'], sD['background'], oneDpixels[:, np.newaxis], oneDpixels)\n",
    "    # now add noise (do NOT include source noise - only the background noise!)\n",
    "    image = addnoise(nonoise, sD['sigNoise']) \n",
    "    return image\n",
    "\n",
    "def addnoise(inimage, sigNoise, addsourcenoise=0):\n",
    "    # make a copy of input image and add gaussian noise\n",
    "    image = np.copy(inimage)\n",
    "    image += np.random.normal(0, sigNoise, image.shape)\n",
    "    if (addsourcenoise):\n",
    "        gain = 1.0\n",
    "        image += np.random.normal(0, np.sqrt(inimage / gain), image.shape)\n",
    "    return image\n",
    "\n",
    "def gauss2Delliptical(muX, muY, sig1, sig2, alpha, A, B, Xpixels, Ypixels):\n",
    "    \"\"\"2D elliptical gaussian + background\"\"\"\n",
    "    # alpha is in degree and note the minus sign below (to go E from N) \n",
    "    cosSq = np.cos(-alpha/180*np.pi)**2\n",
    "    sinSq = np.sin(-alpha/180*np.pi)**2\n",
    "    sigX = np.sqrt(sig1**2*cosSq + sig2**2*sinSq)\n",
    "    sigY = np.sqrt(sig1**2*sinSq + sig2**2*cosSq)\n",
    "    sigXY = (sig1**2 - sig2**2) * np.sin(-alpha/180*np.pi) * np.cos(-alpha/180*np.pi) \n",
    "    rho = sigXY/sigX/sigY\n",
    "    zSquare = (Xpixels - muX)**2/sigX**2 + (Ypixels - muY)**2/sigY**2 \\\n",
    "                  - 2*rho*(Xpixels - muX)*(Ypixels - muY)/sigX/sigY\n",
    "    # make and set image to the background value\n",
    "    image = np.empty(zSquare.shape)\n",
    "    image.fill(B)\n",
    "    # now add elliptical gaussian profile (area is normalized to A)\n",
    "    image += A * np.exp(-zSquare / 2/(1-rho**2)) / (2 * math.pi * sig1 * sig2)\n",
    "    return image \n",
    "\n",
    "\n",
    "def measureStamp(stamp, psf, oneDpix, stampData):\n",
    "    # first psf flux\n",
    "    psfN = psf/np.sum(psf)\n",
    "    weight = psfN/np.sum(psfN**2)\n",
    "    stampData['CountsMeasured'] = np.sum(weight*stamp) \n",
    "    stampData['CountsMeasuredErr'] = stampData['sigNoise']/np.sqrt(np.sum(psfN**2))\n",
    "    stampData['SNR'] = stampData['CountsMeasured']/stampData['CountsMeasuredErr']  \n",
    "    # and now 2nd moments\n",
    "    x2D = 0*oneDpix[:, np.newaxis] + oneDpix\n",
    "    y2D = oneDpix[:, np.newaxis] + 0*oneDpix\n",
    "    # should be measured centroids... \n",
    "    xoff = x2D - stampData['muX']\n",
    "    yoff = y2D - stampData['muY']\n",
    "    roffSq = xoff**2 + yoff**2\n",
    "    stampData['sigxxMeasured'] = np.sum(weight*xoff**2*stamp)/np.sum(weight*stamp)\n",
    "    stampData['sigxyMeasured'] = np.sum(weight*xoff*yoff*stamp)/np.sum(weight*stamp)\n",
    "    stampData['sigyyMeasured'] = np.sum(weight*yoff**2*stamp)/np.sum(weight*stamp)\n",
    "    sXX = stampData['sigxxMeasured'] \n",
    "    sXY = stampData['sigxyMeasured'] \n",
    "    sYY = stampData['sigyyMeasured'] \n",
    "    aux1 = (sXX**2+sYY**2)/2\n",
    "    aux2 = np.sqrt((sXX**2-sYY**2)**2/4+sXY**2)\n",
    "    stampData['sigP1Measured'] = aux1 + aux2\n",
    "    stampData['sigP2Measured'] = aux1 - aux2\n",
    "    stampData['angleDegMeasured'] = 90/np.pi*np.arctan(2*sXY/(sXX**2-sYY**2))\n",
    "    return\n",
    "\n",
    "\n",
    "def makePSFstamp(displayStamp=False):\n",
    "    ## THIS IS WHERE STAMP SIZE IS DEFINED\n",
    "    oneDpixels = np.linspace(-15.5, 15.5, 32)  \n",
    "    stampData = {\"author\": 'Zeljko Ivezic'}\n",
    "    stampData['muX'] = 0\n",
    "    stampData['muY'] = 0\n",
    "    # sigma values are in pixels (LSST: 1 pix=0.2 arcsec)\n",
    "    # for Gaussian FWHM = 2.355 * sig\n",
    "    # so for LSST's FWHM=0.8\" we get sig2 = 1.7 pixels\n",
    "    # first PSF \n",
    "    stampData['sig2'] = 1.7\n",
    "    stampData['sig1'] = stampData['sig2'] \n",
    "    stampData['alphaDeg'] = 0.0\n",
    "    stampData['sigNoise'] = 0.0\n",
    "    stampData['background'] = 0 \n",
    "    stampData['Counts'] = 1000\n",
    "    psf = getStamp(oneDpixels, stampData)\n",
    "    measureStamp(psf, psf, oneDpixels, stampData)\n",
    "    if displayStamp:\n",
    "        showStamp(psf) \n",
    "    stampData['type'] = 'psf'\n",
    "    return psf, oneDpixels, stampData\n",
    "\n",
    "\n",
    "def makeStar(psf, counts, SNR, oneDpixels, displayStamp=False):\n",
    "    stampData = {\"author\": 'Zeljko Ivezic'}\n",
    "    stampData['muX'] = 0\n",
    "    stampData['muY'] = 0\n",
    "    # sigma values are in pixels (LSST: 1 pix=0.2 arcsec)\n",
    "    # for Gaussian FWHM = 2.355 * sig\n",
    "    # so for LSST's FWHM=0.8\" we get sig2 = 1.7 pixels\n",
    "    stampData['sig2'] = 1.7\n",
    "    stampData['sig1'] = stampData['sig2'] \n",
    "    stampData['alphaDeg'] = 0.0\n",
    "    # this noise value gives SNR=5 for PSF flux and Counts=1000 \n",
    "    stampData['sigNoise'] = 33.0*5/SNR\n",
    "    stampData['background'] = 0 \n",
    "    stampData['Counts'] = counts\n",
    "    star = getStamp(oneDpixels, stampData)\n",
    "    measureStamp(star, psf, oneDpixels, stampData)\n",
    "    if displayStamp:\n",
    "        showStamp(star)\n",
    "    stampData['type'] = 'star'\n",
    "    return star, stampData\n",
    "\n",
    "\n",
    "def makeTrail(psf, counts, SNR, oneDpixels, alphaDeg, axisRatio, displayStamp=False):\n",
    "    stampData = {\"author\": 'Zeljko Ivezic'}\n",
    "    stampData['muX'] = 0\n",
    "    stampData['muY'] = 0\n",
    "    # sigma values are in pixels (LSST: 1 pix=0.2 arcsec)\n",
    "    # for Gaussian FWHM = 2.355 * sig\n",
    "    # so for LSST's FWHM=0.8\" we get sig2 = 1.7 pixels\n",
    "    stampData['sig2'] = 1.7\n",
    "    # for v = 0.64 deg/day, motion is 0.8\", so ellipticity ~ 2\n",
    "    stampData['sig1'] = axisRatio * stampData['sig2'] \n",
    "    stampData['alphaDeg'] = alphaDeg\n",
    "    # this noise value gives SNR=5 for PSF flux and Counts=1000 \n",
    "    stampData['sigNoise'] = 33.0*5/SNR\n",
    "    stampData['background'] = 0 \n",
    "    stampData['Counts'] = counts\n",
    "    trail = getStamp(oneDpixels, stampData)\n",
    "    measureStamp(trail, psf, oneDpixels, stampData)\n",
    "    if displayStamp:\n",
    "        showStamp(trail) \n",
    "    stampData['type'] = 'trail'\n",
    "    return trail, stampData\n",
    "\n",
    "\n",
    "def makeDipole(psf, counts, SNR, oneDpixels, muX, muY, displayStamp=False):\n",
    "    star, stampData = makeStar(psf, counts, SNR, oneDpixels, displayStamp)\n",
    "    stampData['muX'] = muX\n",
    "    stampData['muY'] = muY\n",
    "    star2 = getStamp(oneDpixels, stampData)\n",
    "    dipole = star - star2   \n",
    "    measureStamp(dipole, psf, oneDpixels, stampData)\n",
    "    if displayStamp:\n",
    "        showStamp(dipole) \n",
    "    stampData['type'] = 'dipole'\n",
    "    return dipole, stampData\n",
    "\n",
    "\n",
    "def saveStamp(stamp, filename, hdrData=\"\", writePixels=True):\n",
    "    if writePixels:\n",
    "        hdu = fits.PrimaryHDU(stamp)\n",
    "    else:\n",
    "        hdu = fits.PrimaryHDU()\n",
    "    hdr = hdu.header\n",
    "    if hdrData!=\"\":\n",
    "        for entry in hdrData:\n",
    "            hdr[entry] = hdrData[entry]\n",
    "    # print('saveStamp: writing to', filename)\n",
    "    hdu.writeto(filename)\n",
    "    return \n",
    "\n",
    "def saveStampNPY(counter, nPix, npyArray, stamp, filename, hdrData=\"\"):    \n",
    "    npyArray[counter,0:nPix,0:nPix,0] = stamp\n",
    "    saveStamp(\"\", filename, hdrData=hdrData, writePixels=False)\n",
    "    return \n",
    "    \n",
    "def getSNR(N, SNRmin, k=0.6):\n",
    "    # return an array of N values of SNR generated from a distribution \n",
    "    # that follows exponential counts: logN(mag) = C + k*mag\n",
    "    # in the range SNR>SNRmin \n",
    "    # for k=0.6 we have the so-called Euclidean counts\n",
    "    # astroML code for truncated exponential distribution of mags: \n",
    "    mMax = 24-16 # LSST limits: from 5-sigma to saturation\n",
    "    # that is, SNRmax = SNRmin * 10**(0.4*(mMax)) if k=0.6\n",
    "    true_dist = trunc_exp(0, mMax, k * np.log(10))\n",
    "    # draw and return \n",
    "    np.random.seed(0)\n",
    "    mag = true_dist.rvs(N)\n",
    "    # and now transform to SNR, assuming mMax is 5-sigma \n",
    "    SNR = SNRmin * 10**(0.4*(mMax-mag))\n",
    "    return SNR\n",
    "\n",
    "def makeStars(psf, oneDpixels, istart, Nstamp, fileroot, SNRmin=50, FITS=False, npyArray=\"\"):\n",
    "    counts = 1000\n",
    "    # generate SNR \n",
    "    SNR = getSNR(Nstamp, SNRmin)\n",
    "    for i in range(istart, istart+Nstamp):\n",
    "        star, starData = makeStar(psf, counts, SNR[i-istart], oneDpixels, False)\n",
    "        starData['ID'] = i\n",
    "        filename = fileroot + str(i) + '.fits'\n",
    "        # print('writing:', filename)\n",
    "        if (npyArray==\"\"):\n",
    "            if FITS: saveStamp(star, filename, hdrData=starData)\n",
    "        else:\n",
    "            saveStampNPY(i, oneDpixels.size, npyArray, star, filename, hdrData=starData)\n",
    "    return istart+Nstamp\n",
    "\n",
    "def makeTrails(psf, oneDpixels, istart, Nstamp, fileroot, SNRmin=50, FITS=False, npyArray=\"\"):\n",
    "    counts = 1000\n",
    "    # generate SNR \n",
    "    SNR = getSNR(Nstamp, SNRmin)\n",
    "    for i in range(istart, istart+Nstamp):\n",
    "        # generate axis ratio (uniform in the range 1.1-2)\n",
    "        axisRatio = 1.1 + np.random.random()\n",
    "        # orientation is random in the range 0-180 deg\n",
    "        alphaDeg = 180*np.random.random()\n",
    "        trail, trailData = makeTrail(psf, counts, SNR[i-istart], oneDpixels, alphaDeg, axisRatio, False)\n",
    "        trailData['ID'] = i\n",
    "        filename = fileroot + str(i) + '.fits'\n",
    "        if (npyArray==\"\"):\n",
    "            if FITS: saveStamp(trail, filename, hdrData=trailData)\n",
    "        else:\n",
    "            saveStampNPY(i, oneDpixels.size, npyArray, trail, filename, hdrData=trailData)\n",
    "    return istart+Nstamp\n",
    "\n",
    "def makeDipoles(psf, oneDpixels, istart, Nstamp, fileroot, SNRmin=50, FITS=False, npyArray=\"\"):\n",
    "    counts = 1000\n",
    "    # generate SNR \n",
    "    SNR = getSNR(Nstamp, SNRmin)\n",
    "    for i in range(istart, istart+Nstamp):\n",
    "        # centroid pixel offsets in the range -0.5 to 0.5  \n",
    "        muX = -0.5+np.random.random()\n",
    "        muY = 0.5-np.random.random()\n",
    "        # generate SNR and muX/muY\n",
    "        dipole, dipoleData = makeDipole(psf, counts, SNR[i-istart], oneDpixels, muX, muY, False) \n",
    "        dipoleData['ID'] = i\n",
    "        filename = fileroot + str(i) + '.fits'\n",
    "        if (npyArray==\"\"):\n",
    "            if FITS: saveStamp(dipole, filename, hdrData=dipoleData)\n",
    "        else:\n",
    "            saveStampNPY(i, oneDpixels.size, npyArray, dipole, filename, hdrData=dipoleData)\n",
    "    return istart+Nstamp"
   ]
  },
  {
   "cell_type": "code",
   "execution_count": 154,
   "metadata": {
    "id": "CG69zKthVely"
   },
   "outputs": [],
   "source": [
    "def getStampData(fileroot, N1, N2):\n",
    "    Nstamps = N2-N1+1\n",
    "    trueE = np.zeros(Nstamps)\n",
    "    measuredE = np.zeros(Nstamps)\n",
    "    SNR = np.zeros(Nstamps) \n",
    "    aD = np.zeros(Nstamps) \n",
    "    aM = np.zeros(Nstamps) \n",
    "    CountsM = np.zeros(Nstamps) \n",
    "    sigP1 = np.zeros(Nstamps) \n",
    "    labels = []\n",
    "    for i in range(0, Nstamps):\n",
    "        filename = fileroot + str(i) + '.fits'\n",
    "        s = fits.open(filename)\n",
    "        trueE[i] = s[0].header['sig1']/s[0].header['sig2']\n",
    "        measuredE[i] = s[0].header['sigP1Measured']/s[0].header['sigP2Measured']\n",
    "        labels.append(s[0].header['type'])\n",
    "        SNR[i] = s[0].header['SNR']\n",
    "        aD[i] = s[0].header['alphaDeg']\n",
    "        aM[i] = s[0].header['angleDegMeasured']\n",
    "        CountsM[i] = s[0].header['CountsMeasured']\n",
    "        sigP1[i] = s[0].header['sigP1Measured']\n",
    "    return np.array(labels), SNR, CountsM, trueE, measuredE, sigP1, aD, aM\n",
    "\n",
    "def plotEllipticity(labels, SNR, trueE, measuredE):\n",
    "    # plot mE vs. tE, and tE/mE vs. SNR, color-coded by labels \n",
    "    return "
   ]
  },
  {
   "cell_type": "code",
   "execution_count": 155,
   "metadata": {},
   "outputs": [],
   "source": [
    "# from LSST_project/utils/statistics_2d.py\n",
    "def calculate_mean(image, mask=None):\n",
    "    if mask is not None:\n",
    "        image = image[mask != 0]\n",
    "\n",
    "    pixels = np.reshape(image, (-1,))\n",
    "\n",
    "    return np.sum(pixels) / len(pixels)\n",
    "\n",
    "\n",
    "def calculate_standard_deviation(image, mean=None, mask=None):\n",
    "    if mean is None:\n",
    "        mean = calculate_mean(image, mask)\n",
    "\n",
    "    if mask is not None:\n",
    "        image = image[mask != 0]\n",
    "\n",
    "    pixels = np.reshape(image, (-1,))\n",
    "    return np.sqrt(np.sum(np.square(pixels - mean)) / (len(pixels) - 1))\n",
    "\n",
    "\n",
    "def calculate_median(image, mask=None):\n",
    "    if mask is not None:\n",
    "        image = image[mask != 0]\n",
    "    return np.median(np.reshape(image, (-1,)))\n",
    "\n",
    "\n",
    "def calculate_sigma_g(image, mask=None):\n",
    "    image = image[mask != 0]\n",
    "    image = np.reshape(image, (-1,))\n",
    "    quantile_25 = np.quantile(image, 0.25)\n",
    "    quantile_75 = np.quantile(image, 0.75)\n",
    "    return 0.7413 * (quantile_75 - quantile_25)\n",
    "\n",
    "def calculate_deviation_from_normal_distribution(image, mean=None, std=None,\n",
    "                                                 median=None, sigma_g=None,\n",
    "                                                 mask=None):\n",
    "    if mean is None:\n",
    "        mean = calculate_mean(image, mask)\n",
    "\n",
    "    if std is None:\n",
    "        std = calculate_standard_deviation(image, mean, mask)\n",
    "\n",
    "    if median is None:\n",
    "        median = calculate_median(image, mask)\n",
    "\n",
    "    if sigma_g is None:\n",
    "        sigma_g = calculate_sigma_g(image, mask)\n",
    "\n",
    "    dm = mean - median\n",
    "\n",
    "    sr = sigma_g / std if std != 0 else 0\n",
    "\n",
    "    return dm, sr"
   ]
  },
  {
   "cell_type": "code",
   "execution_count": 156,
   "metadata": {},
   "outputs": [],
   "source": [
    "def showStamp(image):\n",
    "    plt.figure(figsize=(2.5, 2.5))\n",
    "    plt.imshow(np.flipud(image), vmin=np.min(image), vmax=1.05*np.max(image))\n",
    "    return\n",
    "\n",
    "def getSigmaInCircle(image, rPixSq, circRadius):\n",
    "    # get the mean and standard deviation for all pixels outside a circle\n",
    "    # centered in the middle of the image and diameter equal to image size\n",
    "    if circRadius > 0:\n",
    "        m = np.where(rPixSq<circRadius**2, 1, 0)\n",
    "    else:\n",
    "        m = np.where(rPixSq>circRadius**2, 1, 0)\n",
    "    showStamp(m)\n",
    "    print(calculate_median(image, m), calculate_sigma_g(image, m))\n",
    "    \n",
    "def getChi2InCircle(data, model, sigma, rPixSq, circRadius):\n",
    "    # compute chi2 per degree of freedom for Npix pixels with rPixSq < circRadius**2  \n",
    "    # chi2 = sum[(data-model)^2/variance]/Npix,\n",
    "    # TESTING MODE: if circRadius<0, use pixels with rPixSq > circRadius**2 \n",
    "    if circRadius > 0:\n",
    "        m = np.where(rPixSq<circRadius**2, 1, 0)\n",
    "    else:\n",
    "        m = np.where(rPixSq>circRadius**2, 1, 0)\n",
    "    Npix = np.sum(m)\n",
    "    chi = (data-model)/sigma\n",
    "    return Npix, calculate_median(chi, m), calculate_sigma_g(chi, m) \n",
    "\n",
    "def getCountsInCircle(data, rPixSq, circRadius):\n",
    "    # compute chi2 per degree of freedom for Npix pixels with rPixSq < circRadius**2  \n",
    "    # chi2 = sum[(data-model)^2/variance]/Npix,\n",
    "    # TESTING MODE: if circRadius<0, use pixels with rPixSq > circRadius**2 \n",
    "    if circRadius > 0:\n",
    "        m = np.where(rPixSq<circRadius**2, 1, 0)\n",
    "    else:\n",
    "        m = np.where(rPixSq>circRadius**2, 1, 0)\n",
    "    Npix = np.sum(m)\n",
    "    return Npix, Npix*calculate_mean(data, m)"
   ]
  },
  {
   "cell_type": "code",
   "execution_count": 157,
   "metadata": {},
   "outputs": [
    {
     "data": {
      "image/png": "[encoded data removed]",
      "text/plain": [
       "<Figure size 425x425 with 1 Axes>"
      ]
     },
     "metadata": {
      "needs_background": "light"
     },
     "output_type": "display_data"
    }
   ],
   "source": [
    "# a hack to make geometric mask for estimating background noise\n",
    "Npix = 32\n",
    "oneDpix = np.linspace(-(Npix-1)/2, (Npix-1)/2, 32)  \n",
    "x2D = 0*oneDpix[:, np.newaxis] + oneDpix \n",
    "y2D = oneDpix[:, np.newaxis] + 0*oneDpix \n",
    "rPixSq = x2D**2 + y2D**2  \n",
    "maskBkgd = np.where(rPixSq>16**2, 1, 0)\n",
    "showStamp(maskBkgd)"
   ]
  },
  {
   "cell_type": "code",
   "execution_count": 158,
   "metadata": {
    "id": "03S0DUi0Velz",
    "outputId": "712589e3-65fe-4fa0-a27c-f7e7ca5c2f5e",
    "scrolled": false
   },
   "outputs": [
    {
     "data": {
      "image/png": "[encoded data removed]",
      "text/plain": [
       "<Figure size 425x425 with 1 Axes>"
      ]
     },
     "metadata": {
      "needs_background": "light"
     },
     "output_type": "display_data"
    }
   ],
   "source": [
    "psf, oneDpixels, psfData = makePSFstamp(True)"
   ]
  },
  {
   "cell_type": "code",
   "execution_count": 159,
   "metadata": {},
   "outputs": [
    {
     "data": {
      "text/plain": [
       "{'author': 'Zeljko Ivezic',\n",
       " 'muX': 0,\n",
       " 'muY': 0,\n",
       " 'sig2': 1.7,\n",
       " 'sig1': 1.7,\n",
       " 'alphaDeg': 0.0,\n",
       " 'sigNoise': 0.0,\n",
       " 'background': 0,\n",
       " 'Counts': 1000,\n",
       " 'CountsMeasured': 999.9999999999997,\n",
       " 'CountsMeasuredErr': 0.0,\n",
       " 'SNR': inf,\n",
       " 'sigxxMeasured': 1.4450000000675578,\n",
       " 'sigxyMeasured': 2.2204460492503136e-19,\n",
       " 'sigyyMeasured': 1.4450000000675578,\n",
       " 'sigP1Measured': 2.088025000195242,\n",
       " 'sigP2Measured': 2.088025000195242,\n",
       " 'angleDegMeasured': 45.0,\n",
       " 'type': 'psf'}"
      ]
     },
     "execution_count": 159,
     "metadata": {},
     "output_type": "execute_result"
    }
   ],
   "source": [
    "psfData"
   ]
  },
  {
   "cell_type": "code",
   "execution_count": 160,
   "metadata": {},
   "outputs": [],
   "source": [
    "def getChi2Stats(image, maskBkgd, rPixSq):\n",
    "    # showStamp(image)\n",
    "    # get background level and noise \n",
    "    medBkgd = calculate_median(image, maskBkgd)\n",
    "    sigBkgd = calculate_sigma_g(image, maskBkgd)\n",
    "    # model assumes background without a source: can we \"see\" that \n",
    "    # there is a source through metricChi2=(chi2-1)/sigChi2? \n",
    "    model = 0*image\n",
    "    Npix, medianChi, chi2 = getChi2InCircle(image, model, sigBkgd, rPixSq, 2.7)\n",
    "    metricChi2 = (chi2-1)/np.sqrt(2/Npix)\n",
    "    print(Npix, medBkgd, sigBkgd, medianChi, chi2, metricChi2)"
   ]
  },
  {
   "cell_type": "code",
   "execution_count": 161,
   "metadata": {
    "id": "CmBM7AbjVel1",
    "outputId": "952d788f-04a2-458d-c508-8cededb57fda"
   },
   "outputs": [
    {
     "data": {
      "image/png": "[encoded data removed]",
      "text/plain": [
       "<Figure size 425x425 with 1 Axes>"
      ]
     },
     "metadata": {
      "needs_background": "light"
     },
     "output_type": "display_data"
    }
   ],
   "source": [
    "counts = 1000\n",
    "SNR = 50.0\n",
    "star, starData = makeStar(psf, counts, SNR, oneDpixels, True)"
   ]
  },
  {
   "cell_type": "code",
   "execution_count": 162,
   "metadata": {},
   "outputs": [
    {
     "data": {
      "text/plain": [
       "{'author': 'Zeljko Ivezic',\n",
       " 'muX': 0,\n",
       " 'muY': 0,\n",
       " 'sig2': 1.7,\n",
       " 'sig1': 1.7,\n",
       " 'alphaDeg': 0.0,\n",
       " 'sigNoise': 3.3,\n",
       " 'background': 0,\n",
       " 'Counts': 1000,\n",
       " 'CountsMeasured': 1009.0541441072768,\n",
       " 'CountsMeasuredErr': 19.886932207176184,\n",
       " 'SNR': 50.73955769523669,\n",
       " 'sigxxMeasured': 1.4761374632260107,\n",
       " 'sigxyMeasured': 0.02165505008280224,\n",
       " 'sigyyMeasured': 1.4231103165799637,\n",
       " 'sigP1Measured': 2.1819738261744837,\n",
       " 'sigP2Measured': 2.0222509573211633,\n",
       " 'angleDegMeasured': 7.866586863595581,\n",
       " 'type': 'star'}"
      ]
     },
     "execution_count": 162,
     "metadata": {},
     "output_type": "execute_result"
    }
   ],
   "source": [
    "starData"
   ]
  },
  {
   "cell_type": "code",
   "execution_count": 163,
   "metadata": {},
   "outputs": [
    {
     "name": "stdout",
     "output_type": "stream",
     "text": [
      "743.5851524944637 45.99505565457208\n"
     ]
    }
   ],
   "source": [
    "Npix, signal = getCountsInCircle(star, rPixSq, 2.7)\n",
    "noise = np.sqrt(Npix)*starData['sigNoise']\n",
    "snr = signal/noise\n",
    "print(signal, snr)"
   ]
  },
  {
   "cell_type": "code",
   "execution_count": 164,
   "metadata": {
    "id": "Xm2TOjnbVel1",
    "outputId": "d2ebb99f-2236-4123-a543-2948023888b9"
   },
   "outputs": [
    {
     "data": {
      "image/png": "[encoded data removed]",
      "text/plain": [
       "<Figure size 425x425 with 1 Axes>"
      ]
     },
     "metadata": {
      "needs_background": "light"
     },
     "output_type": "display_data"
    }
   ],
   "source": [
    "counts = 1000\n",
    "SNR = 50.0\n",
    "alphaDeg = 30\n",
    "axisRatio = 2.0\n",
    "trail, trailData = makeTrail(psf, counts, SNR, oneDpixels, alphaDeg, axisRatio, True)"
   ]
  },
  {
   "cell_type": "code",
   "execution_count": 165,
   "metadata": {
    "id": "nAb9vL7_Vel2",
    "outputId": "56945b05-956e-40ae-cd35-daed4398491f"
   },
   "outputs": [
    {
     "data": {
      "image/png": "[encoded data removed]",
      "text/plain": [
       "<Figure size 425x425 with 1 Axes>"
      ]
     },
     "metadata": {
      "needs_background": "light"
     },
     "output_type": "display_data"
    },
    {
     "data": {
      "image/png": "[encoded data removed]",
      "text/plain": [
       "<Figure size 425x425 with 1 Axes>"
      ]
     },
     "metadata": {
      "needs_background": "light"
     },
     "output_type": "display_data"
    }
   ],
   "source": [
    "counts = 1000\n",
    "SNR = 50.0\n",
    "muX = -0.5\n",
    "muY = 0.5\n",
    "dipole, dipoleData = makeDipole(psf, counts, SNR, oneDpixels, muX, muY, True) "
   ]
  },
  {
   "cell_type": "code",
   "execution_count": 166,
   "metadata": {
    "id": "z7xyZy5aVel2"
   },
   "outputs": [],
   "source": [
    "psf, oneDpixels, psfData = makePSFstamp() "
   ]
  },
  {
   "cell_type": "markdown",
   "metadata": {},
   "source": [
    "## The SNR limit, output file name, etc. is set here... <a id='sample'></a>\n",
    "[Go to top](#toc)"
   ]
  },
  {
   "cell_type": "code",
   "execution_count": 167,
   "metadata": {
    "id": "CGuFrSrjVel3",
    "outputId": "82305e60-d61e-48f1-8e79-92189ef4be75"
   },
   "outputs": [
    {
     "name": "stdout",
     "output_type": "stream",
     "text": [
      "done with stars, counter: 1000\n",
      "done with trails, counter: 2000\n",
      "done with all, counter: 3000\n"
     ]
    }
   ],
   "source": [
    "### all good, now generate larger samples\n",
    "kStamps = 10  # multiplicator for sizes below (total number of stamps is kStamps*300)\n",
    "kStamps = 100     # try...\n",
    "SNRmin = 50   # minimum signal-to-noise ratio\n",
    "SNRmin = 20       # try... \n",
    "fileroot = 'stampsResNet/stamp_'   # make this dir prior to running this code (for *fit files)\n",
    "fileroot = 'stampsResNet2/stamp_'   # make this dir prior to running this code (for *fit files)\n",
    "npyFile = 'data/stamps4ResNet.npy'      # alternative way to store stamps (used by ResNet50.ipynb)\n",
    "\n",
    "# defaults\n",
    "FITS = False\n",
    "Nstar0 = 100\n",
    "Ntrail0 = 100\n",
    "Ndipole0 = 100\n",
    "Nstar = Nstar0*kStamps\n",
    "Ntrail = Ntrail0*kStamps\n",
    "Ndipole = Ndipole0*kStamps\n",
    "Nstamps = kStamps*(Nstar0+Ntrail0+Ndipole0)\n",
    "# make point spread function and pixel array\n",
    "psf, oneDpixels, psfData = makePSFstamp()\n",
    "Npixel = oneDpixels.size\n",
    "\n",
    "# 3-D array to be stored in npy file (if FITS=False)\n",
    "if FITS==False: \n",
    "    # stamps (pixel data) will be stored in npy file\n",
    "    allArray = np.zeros((Nstamps,Npixel,Npixel,1))\n",
    "else: \n",
    "    # stamps will be in FITS files, together with hdr data\n",
    "    allArray = \"\"\n",
    "    \n",
    "counter = makeStars(psf, oneDpixels, 0, Nstar, fileroot, SNRmin, FITS, allArray)  \n",
    "print('done with stars, counter:', counter)\n",
    "counter = makeTrails(psf, oneDpixels, counter, Ntrail, fileroot, SNRmin, FITS, allArray)\n",
    "print('done with trails, counter:', counter)\n",
    "Ntotal = makeDipoles(psf, oneDpixels, counter, Ndipole, fileroot, SNRmin, FITS, allArray) \n",
    "print('done with all, counter:', Ntotal)"
   ]
  },
  {
   "cell_type": "code",
   "execution_count": 168,
   "metadata": {
    "id": "M1XR1u2RVel4"
   },
   "outputs": [
    {
     "name": "stdout",
     "output_type": "stream",
     "text": [
      "stamps are made! the rest of code is for testing purposes.\n"
     ]
    }
   ],
   "source": [
    "# can tar them all using (in stamps dir): \n",
    "# tar -cvf all32pix-metadata.tar find . -name '.fits' -type f\n",
    "if FITS==False: \n",
    "    np.save(npyFile, allArray, allow_pickle=False)\n",
    "print('stamps are made! the rest of code is for testing purposes.')"
   ]
  },
  {
   "cell_type": "code",
   "execution_count": 169,
   "metadata": {
    "id": "bIR2whYpVel5",
    "outputId": "db414c39-f0ab-4527-a39e-dd485b217dbd"
   },
   "outputs": [
    {
     "data": {
      "image/png": "[encoded data removed]",
      "text/plain": [
       "<Figure size 425x425 with 1 Axes>"
      ]
     },
     "metadata": {
      "needs_background": "light"
     },
     "output_type": "display_data"
    }
   ],
   "source": [
    "## test\n",
    "iStamp = 619\n",
    "s = fits.open(fileroot + str(iStamp) +'.fits')\n",
    "if FITS==False: \n",
    "    pixData = np.load(npyFile)\n",
    "    s[0].data = pixData[iStamp,0:32,0:32,0]\n",
    "showStamp(s[0].data)"
   ]
  },
  {
   "cell_type": "code",
   "execution_count": 170,
   "metadata": {
    "id": "nIxFsSc0Vel7"
   },
   "outputs": [],
   "source": [
    "# more tests: compute and plot a few obvious quantities\n",
    "labels, SNR, CountsM, tE, mE, sigP1, aDeg, aDegM = getStampData(fileroot, 0, Nstamps-1)"
   ]
  },
  {
   "cell_type": "code",
   "execution_count": 171,
   "metadata": {
    "id": "kR12ucYQVel7",
    "outputId": "d2b77595-0e3f-4a7d-c158-baa30214de1b"
   },
   "outputs": [
    {
     "name": "stdout",
     "output_type": "stream",
     "text": [
      "star CM, mean= 1000.1714563723915  std= 13.047871656748296  max= 1047.671691081815\n",
      "star mE, mean= 1.0418504781424232  std= 0.035768828838856674  max= 1.2691758004381617\n",
      "star aD, mean= 0.0  std= 0.0  max= 0.0\n",
      "star aM, mean= 0.3936237058249218  std= 18.013960013002876  max= 44.70124622089254\n",
      "trail CM, mean= 761.5529942001451  std= 96.31644453824535  max= 966.4265333125563\n",
      "trail mE, mean= 1.6453970578677932  std= 0.3930469121394424  max= 2.8348502102714925\n",
      "trail aD, mean= 88.46491310280203  std= 51.70956973798566  max= 179.5399094744465\n",
      "trail aM, mean= -0.020937797064089027  std= 16.46880152840189  max= 44.77173390188622\n",
      "dipole CM, mean= 13.83945229811532  std= 20.167307982058084  max= 84.12175868979773\n",
      "dipole mE, mean= 66.97439501619559  std= 4811.610527303913  max= 128358.98797619225\n",
      "dipole aD, mean= 0.0  std= 0.0  max= 0.0\n",
      "dipole aM, mean= 0.9930913498040368  std= 22.37005083748955  max= 44.77049361757993\n"
     ]
    }
   ],
   "source": [
    "for L in ['star', 'trail', 'dipole']:\n",
    "    t = mE[labels==L]\n",
    "    aD = aDeg[labels==L]\n",
    "    aM = aDegM[labels==L]\n",
    "    C = CountsM[labels==L]\n",
    "    print(L, 'CM, mean=', np.mean(C), ' std=', np.std(C), ' max=', np.max(C))    \n",
    "    print(L, 'mE, mean=', np.mean(t), ' std=', np.std(t), ' max=',  np.max(t))\n",
    "    print(L, 'aD, mean=', np.mean(aD), ' std=', np.std(aD), ' max=',  np.max(aD))\n",
    "    print(L, 'aM, mean=', np.mean(aM), ' std=', np.std(aM), ' max=',  np.max(aM))    "
   ]
  },
  {
   "cell_type": "code",
   "execution_count": 172,
   "metadata": {
    "id": "4vbVrJhWVel7",
    "outputId": "5d5130a3-a4da-4878-abe6-d42c05cdf0ec"
   },
   "outputs": [
    {
     "data": {
      "image/png": "[encoded data removed]",
      "text/plain": [
       "<Figure size 1190x595 with 2 Axes>"
      ]
     },
     "metadata": {
      "needs_background": "light"
     },
     "output_type": "display_data"
    }
   ],
   "source": [
    "fig = plt.figure(figsize=(7, 3.5))\n",
    "fig.subplots_adjust(wspace=0.23, hspace=0.28, left=0.1,\n",
    "                        right=0.95, bottom=0.12, top=0.95)\n",
    "\n",
    "def plotOneType(axis, x, y, labels, L, color):\n",
    "    xT = x[labels==L]\n",
    "    yT = y[labels==L]\n",
    "    axis.scatter(xT, yT, s=10, c=color, alpha=0.3)\n",
    "\n",
    "ax = plt.subplot(121)\n",
    "plotOneType(ax, CountsM, mE, labels, 'star', 'black')\n",
    "plotOneType(ax, CountsM, mE, labels, 'trail', 'red')\n",
    "plotOneType(ax, CountsM, mE, labels, 'dipole', 'blue')\n",
    "ax.set_xlim(-1000, 2000)\n",
    "ax.set_ylim(0, 25)\n",
    "ax.set_xlabel('Counts')\n",
    "ax.set_ylabel('ellipticity')\n",
    "\n",
    "\n",
    "ax = plt.subplot(122)\n",
    "plotOneType(ax, sigP1, mE, labels, 'star', 'black')\n",
    "plotOneType(ax, sigP1, mE, labels, 'trail', 'red')\n",
    "plotOneType(ax, sigP1, mE, labels, 'dipole', 'blue')\n",
    "ax.set_xlim(-100, 1000)\n",
    "ax.set_ylim(0, 25)\n",
    "ax.set_xlabel('sigP1 (pixel)')\n",
    "ax.set_ylabel('ellipticity')\n",
    "\n",
    "\n",
    "plt.show()"
   ]
  },
  {
   "cell_type": "markdown",
   "metadata": {
    "id": "Az_X_F2OVldP"
   },
   "source": [
    "### Now run ResNet50  (see ResNet50.ipynb notebook)..."
   ]
  }
 ],
 "metadata": {
  "colab": {
   "name": "makeSample.ipynb",
   "provenance": []
  },
  "kernelspec": {
   "display_name": "Python 3",
   "language": "python",
   "name": "python3"
  },
  "language_info": {
   "codemirror_mode": {
    "name": "ipython",
    "version": 3
   },
   "file_extension": ".py",
   "mimetype": "text/x-python",
   "name": "python",
   "nbconvert_exporter": "python",
   "pygments_lexer": "ipython3",
   "version": "3.7.4"
  }
 },
 "nbformat": 4,
 "nbformat_minor": 1
}
