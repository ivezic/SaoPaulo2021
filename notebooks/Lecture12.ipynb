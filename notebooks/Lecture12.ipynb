{
 "cells": [
  {
   "cell_type": "markdown",
   "metadata": {},
   "source": [
    "# Lecture 12:  Introduction to Bayesian Inference\n",
    "## Delivered by Prof. Laerte Sodre Jr."
   ]
  },
  {
   "cell_type": "markdown",
   "metadata": {},
   "source": [
    "#### This notebook was developed by [Zeljko Ivezic](http://faculty.washington.edu/ivezic/) for the 2021 data science class at the University of Sao Paulo and it is available from [github](https://github.com/ivezic/SaoPaulo2021/blob/main/notebooks/Lecture12.ipynb).\n",
    "\n",
    "Note: this notebook contains code developed by Z. Ivezic, M. Juric, A. Connolly, B. Sippocz, Jake VanderPlas, G. Richards and many others."
   ]
  },
  {
   "cell_type": "markdown",
   "metadata": {
    "slideshow": {
     "slide_type": "slide"
    }
   },
   "source": [
    "##### Resources for this notebook include:\n",
    "\n",
    "- [Textbook](http://press.princeton.edu/titles/10159.html) Chapter 5.  \n",
    "- [Jake VanderPlas's workshop \"Bayesian Astronomy\"](https://github.com/jakevdp/BayesianAstronomy)\n",
    "- [Jake VanderPlas's blog \"Frequentism and Bayesianism: A Practical Introduction\"](http://jakevdp.github.io/blog/2014/03/11/frequentism-and-bayesianism-a-practical-intro/)\n",
    "\n",
    "\n",
    "##### Highly recommended supplemental background reading:\n",
    "\n",
    "- [Mario Juric: Frequentist vs. Bayesian Perspectives (LSSTC Data Science Fellowship Program Lecture)](https://github.com/LSSTC-DSFP/LSSTC-DSFP-Sessions/tree/master/Session4/Day1)\n",
    "- [Jake VanderPlas: ``Frequentism and Bayesianism: A Python-driven Primer\"](https://arxiv.org/abs/1411.5018)\n",
    "- [Hogg, Bovy and Lang: ``Data analysis recipes: Fitting a model to data\"](https://arxiv.org/abs/1008.4686)\n",
    "\n",
    "\n",
    "##### For those who want to dive deep:\n",
    "\n",
    "- [D. Sivia and J. Skilling: ``Data Analysis: A Bayesian Tutorial''](https://www.amazon.com/Data-Analysis-Bayesian-Devinderjit-Sivia/dp/0198568320)\n",
    "- [E.T. Jaynes: ``Probability Theory: The Logic of Science''](http://bayes.wustl.edu/etj/prob/book.pdf)\n",
    "- [E.T. Jaynes: ``Confidence Intervals vs. Bayesian intervals''](http://bayes.wustl.edu/etj/articles/confidence.pdf)"
   ]
  },
  {
   "cell_type": "markdown",
   "metadata": {},
   "source": [
    "<a id='toc'></a>\n",
    "\n",
    "## This notebook includes:\n",
    "\n",
    "\n",
    "[Bayes Rule extended to Bayesian Inference](#intro)\n",
    "\n",
    "[The role of priors in Bayesian Inference](#prior)\n",
    "\n",
    "[Simple parameter estimation examples](#example)"
   ]
  },
  {
   "cell_type": "markdown",
   "metadata": {},
   "source": [
    "## Bayes Rule extended to Bayesian Inference <a id='intro'></a> "
   ]
  },
  {
   "cell_type": "markdown",
   "metadata": {
    "slideshow": {
     "slide_type": "slide"
    }
   },
   "source": [
    "\n",
    "![BayesSlide1](figures/bayes1.jpg)"
   ]
  },
  {
   "cell_type": "markdown",
   "metadata": {
    "slideshow": {
     "slide_type": "slide"
    }
   },
   "source": [
    "## Recall Bayes' Rule\n",
    "\n",
    "We had that \n",
    "$$p(x,y) = p(x|y)p(y) = p(y|x)p(x)$$\n",
    "\n",
    "Btw, we also used notation ($p$ that both $A$ and $B$ will happen) \n",
    "\n",
    "$$p(A \\cap B) \\equiv p(A,B) = p(A|B)p(B) = p(B|A)p(A)$$\n",
    "\n",
    "We can define the **marginal probability** as\n",
    "$$p(x) = \\int p(x,y)dy,$$\n",
    "where marginal means essentially projecting on to one axis.\n",
    "\n",
    "We can re-write this as\n",
    "$$p(x) = \\int p(x|y)p(y) dy$$"
   ]
  },
  {
   "cell_type": "markdown",
   "metadata": {
    "slideshow": {
     "slide_type": "slide"
    }
   },
   "source": [
    "\n",
    "Since $$p(x|y)p(y) = p(y|x)p(x)$$ we can write that\n",
    "$$p(y|x) = \\frac{p(x|y)p(y)}{p(x)} = \\frac{p(x|y)p(y)}{\\int p(x|y)p(y) dy}$$\n",
    "which in words says that\n",
    "\n",
    "> the (conditional) probability of $y$ given $x$ is just the (conditional) probability of $x$ given $y$ times the (marginal) probability of $y$ divided by the (marginal) probability of $x$, where the latter is just the integral of the numerator.\n",
    "\n",
    "This is **Bayes' rule**, which itself is not at all controversial -- it is just probability algebra!\n",
    "\n",
    "What's more controversial is the **definition of probability**."
   ]
  },
  {
   "cell_type": "markdown",
   "metadata": {
    "slideshow": {
     "slide_type": "slide"
    }
   },
   "source": [
    "## Frequentist Probability\n",
    "For frequentists, probability only has meaning in terms of **a limiting case of repeated measurements**.\n",
    "\n",
    "That is, if I measure the photon flux $F$ from a given star (we'll assume for now that the star's flux does not vary with time), then measure it again, then again, and so on, each time I will get a slightly different answer due to the statistical error of my measuring device. In the limit of a large number of measurements, the frequency of any given value indicates the probability of measuring that value.\n",
    "\n",
    "For frequentists **probabilities are fundamentally related to frequencies of events**. This means, for example, that **in a strict frequentist view, it is meaningless to talk about the probability of the true flux of the star: the true flux is (by definition) a single fixed value, and to talk about a frequency distribution for a fixed value is nonsense.**"
   ]
  },
  {
   "cell_type": "markdown",
   "metadata": {
    "slideshow": {
     "slide_type": "slide"
    }
   },
   "source": [
    "## Bayesian Probability\n",
    "For Bayesians, the concept of probability is extended to cover **degrees of certainty about statements**. You can think of it as an **extension of logic** to statements where there's uncertainty.\n",
    "\n",
    "Say a Bayesian claims to measure the flux $F$ of a star with some probability $P(F)$: that probability can certainly be estimated from frequencies in the limit of a large number of repeated experiments, but this is not fundamental. The probability is a statement of my knowledge of what the measurement reasult will be.\n",
    "\n",
    "For Bayesians, **probabilities are fundamentally related to our own knowledge about an event**. This means, for example, that **in a Bayesian view, we can meaningfully talk about the probability that the true flux of a star lies in a given range.**\n",
    "\n",
    "That probability codifies our knowledge of the value based on prior information and/or available data."
   ]
  },
  {
   "cell_type": "markdown",
   "metadata": {
    "slideshow": {
     "slide_type": "slide"
    }
   },
   "source": [
    "## Why is this important?\n",
    "\n",
    "Because it frees the Bayesian to ask a question such as:\n",
    "\n",
    "* Given all I know (my measurements, the literature), what is the probability that a parameter $\\theta$ is so-and-so?\n",
    "* Given all I know (my measurements, the literature), what is the probability that a model is true?\n",
    "\n",
    "And this is, intuitively, what a scientist wants to know."
   ]
  },
  {
   "cell_type": "markdown",
   "metadata": {
    "slideshow": {
     "slide_type": "slide"
    }
   },
   "source": [
    "\n",
    "![BayesSlide1](figures/bayes2.jpg)"
   ]
  },
  {
   "cell_type": "markdown",
   "metadata": {
    "slideshow": {
     "slide_type": "slide"
    }
   },
   "source": [
    "### Recall Maximum Likelihood Estimation (MLE) applied to a Heteroscedastic Gaussian\n",
    "\n",
    "For example, assume $N$ measurements, $\\{x_i\\}$, where the uncertainty for each measurement is Gaussian with\n",
    "a known $\\sigma_i$. The likelihood of one measurement is \n",
    "\n",
    "$$L \\equiv p(x_i|\\mu,\\sigma_i) = \\frac{1}{\\sigma_i\\sqrt{2\\pi}} \\exp\\left(\\frac{-(x_i-\\mu)^2}{2\\sigma_i^2}\\right).$$\n",
    "\n",
    "\n",
    "and therefore the likelihood of all N measurements is\n",
    "\n",
    "$$L \\equiv p(\\{x_i\\}|\\mu,\\sigma_i) = \\prod_{i=1}^N \\frac{1}{\\sigma_i\\sqrt{2\\pi}} \\exp\\left(\\frac{-(x_i-\\mu)^2}{2\\sigma_i^2}\\right).$$\n",
    "\n",
    "\n",
    "\n",
    "leading to (more convenient) log-likelihood\n",
    "\n",
    "$$\\ln L = {\\rm constant} - \\sum_{i=1}^N \\frac{(x_i - \\mu)^2}{2\\sigma_i^2}.$$\n",
    "\n",
    "Taking the derivative:\n",
    "$$\\frac{d\\;{\\rm lnL}(\\mu)}{d\\mu}\\Biggr\\rvert_{\\mu_0} = \\sum_{i=1}^N \\frac{(x_i - \\mu_o)}{\\sigma_i^2} = 0,$$\n",
    "then simplifying:\n",
    "\n",
    "$$\\sum_{i=1}^N \\frac{x_i}{\\sigma_i^2} = \\sum_{i=1}^N \\frac{\\mu_o}{\\sigma_i^2},$$\n",
    "\n",
    "yields a MLE solution of \n",
    "$$\\mu_0 = \\frac{\\sum_i^N (x_i/\\sigma_i^2)}{\\sum_i^N (1/\\sigma_i^2)},$$\n",
    "\n",
    "with uncertainty (from the second derivative)\n",
    "$$\\sigma_{\\mu} = \\left( \\sum_{i=1}^N \\frac{1}{\\sigma_i^2}\\right)^{-1/2}.$$\n",
    "\n",
    " "
   ]
  },
  {
   "cell_type": "code",
   "execution_count": 1,
   "metadata": {},
   "outputs": [],
   "source": [
    "import numpy as np\n",
    "from matplotlib import pyplot as plt\n",
    "from scipy.stats import norm\n",
    "np.random.seed(42)"
   ]
  },
  {
   "cell_type": "code",
   "execution_count": 2,
   "metadata": {},
   "outputs": [
    {
     "name": "stdout",
     "output_type": "stream",
     "text": [
      "[1.09934283 0.97234714 1.12953771]\n"
     ]
    }
   ],
   "source": [
    "### Let's draw a homoscedastic sample of {x_i} from a Gaussian and see what happens with L\n",
    "# first generate a sample of N points drawn from N(mu,sigma):\n",
    "sampleSize=3\n",
    "mu = 1.0\n",
    "sigma = 0.2 \n",
    "sample = norm(mu, sigma).rvs(sampleSize) \n",
    "print(sample)"
   ]
  },
  {
   "cell_type": "code",
   "execution_count": 3,
   "metadata": {},
   "outputs": [
    {
     "data": {
      "image/png": "[encoded data removed]",
      "text/plain": [
       "<Figure size 504x360 with 1 Axes>"
      ]
     },
     "metadata": {
      "needs_background": "light"
     },
     "output_type": "display_data"
    }
   ],
   "source": [
    "### Let's draw a homoscedastic sample of {x_i} from a Gaussian and see what happens with L\n",
    "# now compute likelihoods for each point using true mu \n",
    "muGrid = np.linspace(0,2,1000)\n",
    "L1 = norm(sample[0], sigma).pdf(muGrid) \n",
    "L2 = norm(sample[1], sigma).pdf(muGrid) \n",
    "L3 = norm(sample[2], sigma).pdf(muGrid) \n",
    "L = L1 * L2 * L3\n",
    "# plot\n",
    "fig, ax = plt.subplots(figsize=(7, 5))\n",
    "plt.plot(muGrid, L1, ls='-', c='green', label=r'$L(x_1)$')\n",
    "plt.plot(muGrid, L2, ls='-', c='red', label=r'$L(x_2)$')\n",
    "plt.plot(muGrid, L3, ls='-', c='blue', label=r'$L(x_3)$')\n",
    "plt.plot(muGrid, L, ls='-', c='black', label=r'$L(\\{x\\})$')\n",
    "\n",
    "plt.xlim(0.2, 1.8)\n",
    "plt.ylim(0, 8.0)\n",
    "plt.xlabel('$\\mu$')\n",
    "plt.ylabel(r'$p(x_i|\\mu,\\sigma)$')\n",
    "plt.title('MLE for Gaussian Distribution')\n",
    "plt.legend()\n",
    "plt.show() "
   ]
  },
  {
   "cell_type": "code",
   "execution_count": 4,
   "metadata": {},
   "outputs": [
    {
     "data": {
      "image/png": "[encoded data removed]",
      "text/plain": [
       "<Figure size 504x360 with 1 Axes>"
      ]
     },
     "metadata": {
      "needs_background": "light"
     },
     "output_type": "display_data"
    }
   ],
   "source": [
    "### What if I told you that mu>0.9?\n",
    "muMin = 0.9\n",
    "L1[muGrid < muMin] = 0\n",
    "L2[muGrid < muMin] = 0\n",
    "L3[muGrid < muMin] = 0\n",
    "L = L1 * L2 * L3\n",
    "# plot\n",
    "fig, ax = plt.subplots(figsize=(7, 5))\n",
    "plt.plot(muGrid, L1, ls='-', c='green', label=r'$L(x_1)$')\n",
    "plt.plot(muGrid, L2, ls='-', c='red', label=r'$L(x_2)$')\n",
    "plt.plot(muGrid, L3, ls='-', c='blue', label=r'$L(x_3)$')\n",
    "plt.plot(muGrid, L, ls='-', c='black', label=r'$L(\\{x\\})$')\n",
    "\n",
    "plt.xlim(0.2, 1.8)\n",
    "plt.ylim(0, 8.0)\n",
    "plt.xlabel('$\\mu$')\n",
    "plt.ylabel(r'$p(x_i|\\mu,\\sigma)$')\n",
    "plt.title('MLE for Gaussian Distribution')\n",
    "plt.legend()\n",
    "plt.show() "
   ]
  },
  {
   "cell_type": "markdown",
   "metadata": {
    "slideshow": {
     "slide_type": "slide"
    }
   },
   "source": [
    "### Brief History \n",
    "\n",
    "The Reverend Thomas Bayes (1702–1761) was a British amateur mathematician who wrote a manuscript \n",
    "on how to combine an initial belief with new data to arrive at an improved belief. The manuscript \n",
    "was published posthumously in 1763 and gave rise to the name Bayesian statistics.  \n",
    "\n",
    "The initial \"belief\" can be (and often is) based on data. For example, consider only the first (N-1)\n",
    "measurements, instead of all N measurements as in \n",
    "$$\\mu_0^{N} = \\frac{\\sum_i^N (x_i/\\sigma_i^2)}{\\sum_i^N (1/\\sigma_i^2)},$$\n",
    "which gives \n",
    "$$\\mu_0^{N-1} = \\frac{\\sum_i^{N-1} (x_i/\\sigma_i^2)}{\\sum_i^{N-1} (1/\\sigma_i^2)}.$$\n",
    "\n",
    "Now, we can rewrite the expression for $\\mu_0^{N}$ using the value of $\\mu_0^{N-1}$, which \n",
    "we take to be our \"intial belief\", and the N-th measurement, $x_N$: \n",
    "\n",
    "$$\\mu_0^{N} = \\frac{(x_N/\\sigma_N^2) + \\sum_i^{N-1} (x_i/\\sigma_i^2)}{\\sum_i^{N-1} (1/\\sigma_i^2)}\n",
    "     * \\frac{\\sum_i^{N-1} (1/\\sigma_i^2)}{\\sum_i^N (1/\\sigma_i^2)}  $$\n",
    "     \n",
    "$$\\mu_0^{N} = \\frac{(x_N/\\sigma_N^2)}{\\sum_i^{N} (1/\\sigma_i^2)} + \\mu_0^{N-1} \n",
    "     * \\frac{\\sum_i^{N-1} (1/\\sigma_i^2)}{\\sum_i^N (1/\\sigma_i^2)}  $$\n",
    "\n",
    "**This expression is a recipe for combining the prior belief, or knowledge ($\\mu_0^{N-1}$), \n",
    "with the new measurement $x_N$. **\n",
    "\n",
    "Given the inverse variance (squared uncertainty) $\\sigma_\\mu^{-2} = \\sum_i^{N-1} (1/\\sigma_i^2)$,\n",
    "we also have \n",
    "$$\\mu_0^{N} = \\frac{(x_N/\\sigma_N^2) + (\\mu_0^{N-1}/\\sigma_\\mu^2)}{1/\\sigma_N^2 + 1/\\sigma_\\mu^2}  $$\n",
    "\n",
    "** The impact of each measurement is weighted by its inverse uncertainty squared. ** \n",
    "\n",
    "**A side note** This is an example of a conjugate prior. In special combinations \n",
    "of priors and likelihood functions, the posterior probability has the same functional \n",
    "form as the prior probability. These priors are called conjugate priors and represent \n",
    "a convenient way for generalizing computations. Here both prior and posterior pdfs\n",
    "have the same functional form (Gaussian) because Gaussian prior and Gaussian likelihood\n",
    "are conjugate prior (this is related to the fact that convolution of two Gaussians\n",
    "gives a Gaussian).\n",
    " \n",
    "The above expression greatly simplifies in case of homoscedastic errors \n",
    "($\\sigma_\\mu^{-2} = (N-1)/\\sigma^2$): \n",
    "\n",
    "$$\\mu_0^{N} = x_N * \\frac{1}{N} + \\mu_0^{N-1} * \\frac{N-1}{N},  $$\n",
    "\n",
    "which is a simple weighted sum of the prior value $\\mu_0^{N-1}$ and the new value $x_N$. \n",
    "\n",
    "\n",
    "**Bayesian methodology allows us to derive analogous expressions in more complex and more general cases.**\n",
    "  \n",
    " "
   ]
  },
  {
   "cell_type": "code",
   "execution_count": 5,
   "metadata": {},
   "outputs": [
    {
     "data": {
      "image/png": "[encoded data removed]",
      "text/plain": [
       "<Figure size 504x360 with 1 Axes>"
      ]
     },
     "metadata": {
      "needs_background": "light"
     },
     "output_type": "display_data"
    }
   ],
   "source": [
    "### What happens when we have one precise and one lousy measurement? \n",
    "L1 = norm(0.8, 0.05).pdf(muGrid) \n",
    "L2 = norm(1.2, 0.4).pdf(muGrid) \n",
    "L = L1 * L2 \n",
    "# plot\n",
    "fig, ax = plt.subplots(figsize=(7, 5))\n",
    "plt.plot(muGrid, L1, ls='-', c='green', label=r'$L(x_1): good$')\n",
    "plt.plot(muGrid, L2, ls='-', c='red', label=r'$L(x_2): lousy$')\n",
    "plt.plot(muGrid, L, ls='-', c='black', label=r'$L(\\{x\\}): weighted$')\n",
    "\n",
    "plt.xlim(0.2, 1.8)\n",
    "plt.ylim(0, 9.5)\n",
    "plt.xlabel('$\\mu$')\n",
    "plt.ylabel(r'$p(x_i|\\mu,\\sigma)$')\n",
    "plt.title('Weighted measurements (not normalized)')\n",
    "plt.legend()\n",
    "plt.show() \n",
    " "
   ]
  },
  {
   "cell_type": "markdown",
   "metadata": {
    "slideshow": {
     "slide_type": "subslide"
    }
   },
   "source": [
    "**If either of the two likelihoods (or one of the likelihood and prior pair) is \n",
    "the Dirac's $\\delta$ function (\"zero width\"), the posterior is the same delta function.**\n",
    " "
   ]
  },
  {
   "cell_type": "markdown",
   "metadata": {
    "slideshow": {
     "slide_type": "slide"
    }
   },
   "source": [
    "### More brief History \n",
    "\n",
    "The first renowned mathematician to popularize Bayesian methodology was Pierre Simon Laplace, \n",
    "who rediscovered (1774) and greatly clarified Bayes' principle. Laplace applied the principle \n",
    "to a variety of contemporary problems in astronomy, physics, population statistics, and even \n",
    "jurisprudence. One of the most famous results is his estimate of the mass of Saturn and its \n",
    "uncertainty, which remain consistent with the best measurements of today. \n",
    "\n",
    "**Laplace said: \"I find that it is a bet of 11,000 against one that the error of this result is not 1/100th \n",
    "of its value\".** Therefore, Laplace clearly interpreted measurements as giving a probability\n",
    "statement about the mass of Saturn, although there is only one Saturn and its true mass is \n",
    "what it is, and it is not a random variable according to frequentist statistics.\n",
    "\n",
    "Despite Laplace's fame, Bayesian analysis did not secure a permanent place in science.\n",
    "Instead, classical frequentist statistics was adopted as the norm (this could be at least\n",
    "in part due to the practical difficulties of performing full Bayesian calculations without the\n",
    "aid of computers). Much of Laplace's Bayesian analysis was ignored until the early twentieth\n",
    "century when Harold Jeffreys reinterpreted Laplace's work with much clarity. \n",
    "Yet, even Jeffreys' work was not fully comprehended until around 1960, when it took off thanks\n",
    "to vocal proponents such as de Finetti, Savage, Wald, and Jaynes, and of course, the advent of\n",
    "computing technology. \n",
    " "
   ]
  },
  {
   "cell_type": "markdown",
   "metadata": {
    "slideshow": {
     "slide_type": "slide"
    }
   },
   "source": [
    "### An example of a difficulty with the MLE \n",
    "\n",
    "Imagine you arrive at a bus stop, and observe that the bus arrives $t$ minutes later \n",
    "(it is assumed that you had no knowledge about the bus schedule). What is the mean time \n",
    "between two successive buses, $\\tau$, if the buses keep a regular schedule? \n",
    "\n",
    "It is easy to derive an intuitive answer. The wait time is distributed uniformly in the interval $0 \\le t \\le \\tau$, and on average you would wait for $t=\\tau/2$ minutes.  Rearranging this gives $\\tau = 2t$, which agrees with intuition.\n",
    "\n",
    "What does the maximum likelihood approach give? \n",
    "\n",
    "The probability that you will wait $t$ \n",
    "minutes (the likelihood of data) is given by the uniform distribution (every $t$ is equally likely)\n",
    "$$ p(t\\,|\\,\\tau) =  1/\\tau, $$\n",
    "if $0 \\le t \\le \\tau$ and $p(t|\\tau)=0$ otherwise.\n",
    "\n",
    "\n",
    "Because we only observe a single point, the data likelihood is simply equal to this probability. \n",
    "The maximum likelihood, then, corresponds to the smallest possible $\\tau$ such that $t \\le \\tau$: \n",
    "this is satisfied by $\\tau = t$ and not $\\tau=2t$ as we expected!!\n",
    "\n",
    "Computing the expectation value or the median for $\\tau$ does not help either because\n",
    "the resulting integrals diverge. These puzzling results are resolved by the use of appropriate prior\n",
    "information, as will be discussed in a moment. We shall see several other examples later where the\n",
    "addition of extra information changes the results we would get from the maximum likelihood\n",
    "approach.\n",
    "\n",
    "Let's first introduce basic steps in Bayesian analysis, then use it to resolve\n",
    "the \"bus MLE puzzle\", and then we'll discsus nuisance parameters in more details. \n",
    " "
   ]
  },
  {
   "cell_type": "markdown",
   "metadata": {
    "slideshow": {
     "slide_type": "slide"
    },
    "variables": {
     "\\rm Evidence": {},
     "\\rm Likelihood}\\times{\\rm Prior": {}
    }
   },
   "source": [
    "## Bayesian Statistical Inference\n",
    "\n",
    "Up to now we have been computing the **likelihood** $p(D\\,|\\,M)$.  In Bayesian inference, we instead evaluate the **posterior probability** taking into account **prior** information.\n",
    "\n",
    "Recall that Bayes' Rule is:\n",
    "$$p(M\\,|\\,D) = \\frac{p(D\\,|\\,M)\\,p(M)}{p(D)},$$\n",
    "where $D$ is for data and $M$ is for model. Or in words, \n",
    "$${\\rm Posterior \\,\\, Probability} = \\frac{{\\rm Likelihood}\\times{\\rm Prior}}{{\\rm Evidence}}.$$\n",
    "\n",
    "If we explicitly recognize prior information, $I$, and the model parameters, $\\theta$, then we can write:\n",
    "$$p(M,\\theta \\,|\\,D,I) = \\frac{p(D\\,|\\,M,\\theta,I)\\,p(M,\\theta\\,|\\,I)}{p(D\\,|\\,I)},$$\n",
    "where we will omit the explict dependence on $\\theta$ by writing $M$ instead of $M,\\theta$ where appropriate.  However, as the prior can be expanded to \n",
    "$$p(M,\\theta\\,|\\,I) = p(\\theta\\,|\\,M,I)\\,p(M\\,|\\,I),$$\n",
    "it will still appear in the term $p(\\theta\\,|\\,M,I)$.\n",
    "\n",
    "Note that it is often the case that $p(D\\,|\\,I)$ is not evaluated explictly since the posterior probability \n",
    "can be (re)normalized. \n",
    "\n",
    "**The Bayesian Statistical Inference process** is then\n",
    "* formulate the likelihood, $p(D\\,|\\,M,\\theta,I)$\n",
    "* chose a prior$^1$, $p(M,\\theta\\,|\\,I)$, which incorporates *other information beyond the data in $D$*\n",
    "* determine the posterior pdf, $p(M,\\theta \\,|\\,D,I)$\n",
    "* search for the model parameters that maximize $p(M,\\theta \\,|\\,D,I)$ \n",
    "* quantify the uncertainty of the model parameter estimates\n",
    " \n",
    "$^1$: Note that $p(M,\\theta\\,|\\,I) = p(\\theta\\,|\\,M, I)\\, p(M\\,|\\,I)$.  \n",
    "\n",
    "Going back to our bus arrival problem, our unknown model parameter is $\\tau$ and data is $t$, so that \n",
    "$$p(\\tau\\,|\\,t,I) = p(t\\,|\\,\\tau) \\, p(\\tau\\,|\\,I).$$\n",
    "\n",
    "Before applying this expression, we need to discuss how to choose priors, here $p(\\tau\\,|\\,I)$."
   ]
  },
  {
   "cell_type": "markdown",
   "metadata": {
    "slideshow": {
     "slide_type": "slide"
    }
   },
   "source": [
    "## Bayesian Priors <a id='priors'></a>\n",
    "[Go to top](#toc)\n",
    "\n",
    "\n",
    "\n",
    "Priors can be **informative** or **uninformative**.  As it sounds, informative priors are based on existing information (including previously obtained data, but not the data considered right now) that might be available.  Uniformative priors can be thought of as \"default\" priors, i.e., what your prior is when you never used\n",
    "any data, e.g, a \"flat\" prior like $p(\\theta|M,I) \\propto {\\rm C}$.\n",
    "\n",
    "Detailed discussion can be found in Section 5.2 in the textbook. There are three\n",
    "main principles used to choose a prior: \n",
    "\n",
    "\n",
    "#### The Principle of Indifference\n",
    "\n",
    "Essentially this means adopting a uniform prior, though you have to be a bit careful.  Saying that an asteroid is equally likely to hit anywhere on the Earth is not the same as saying that all latitudes of impact are equally likely.  \n",
    "\n",
    "Assuming $1/6$ for a six-side die, or 1/2 for heads and tails of a fair coin, would be an example of indifference.\n",
    "\n",
    "#### The Principle of Invariance (or Consistency)\n",
    "\n",
    "This applies to location and scale invariance.  \n",
    "\n",
    "**Location invariance** suggests a uniform prior, within the accepted bounds: $p(\\theta|I) \\propto 1/(\\theta_{max}-\\theta_{min})$ for $\\theta_{min} \\le \\theta \\le \\theta_{max}$. \n",
    "\n",
    "**Scale invariance** gives us priors that look like $p(\\theta|I) \\propto 1/\\theta$, which implies a uniform\n",
    "prior for ln($\\theta$). \n",
    "\n",
    "#### The Principle of Maximum Entropy\n",
    "\n",
    "We will not discuss it here - for more details, see Section 5.2.2 in the textbook.\n",
    " \n",
    "It is often true that Bayesian analysis and traditional MLE are essentially equivalent.  \n",
    "However, in some cases, considering the priors can have significant consequences, as\n",
    "we will see later. \n",
    "\n",
    "We will skip examples of very steep priors and their consequences called in astronomy\n",
    "literature **Eddington-Malmquist** and **Lutz-Kelker** biases (see Chapter 5 in the textbook\n",
    "if you are interested). \n",
    "\n",
    "Now, let's go back to the bus arrival problem. "
   ]
  },
  {
   "cell_type": "markdown",
   "metadata": {},
   "source": [
    "## Simple parameter estimation examples <a id='example'></a>\n",
    "[Go to top](#toc)"
   ]
  },
  {
   "cell_type": "markdown",
   "metadata": {
    "slideshow": {
     "slide_type": "slide"
    }
   },
   "source": [
    "In our **bus arrival problem**, $\\tau$ is unknown model parameter and data (datum) is $t$. The\n",
    "posterior pdf for $\\tau$ is (we ignore normalization): \n",
    "$$p(\\tau\\,|\\,t, I) \\propto p(t\\,|\\,\\tau,I) \\, p(\\tau\\,|\\,I).$$\n",
    "\n",
    "The likelihood of data is given by the uniform distribution (every $t$ is equally likely, with \n",
    "$0 \\le t \\le \\tau$):\n",
    "$$ p(t\\,|\\,\\tau,I) =  1/\\tau. $$  \n",
    "\n",
    "Following the Principle of Invariance, we assign the prior\n",
    "$$ p(\\tau\\,|\\,I) = 1/ \\tau.$$\n",
    "\n",
    "Note: the two pdfs look the same but this is essentially a coincidence. \n",
    "\n",
    "So, we have \n",
    "    $$p(\\tau \\,|\\, t,I) \\propto  1/ \\tau^2,$$\n",
    "for $\\tau > t$ and 0 otherwise. We use normalization constraint \n",
    "$$ \\int_t^\\infty p(\\tau\\,|\\,I)d\\tau = \\int_t^\\infty C/\\tau^2 d\\tau \\equiv 1,$$\n",
    "to get $C=t$ (the divergent integral over $\\tau$ encountered in the maximum likelihood \n",
    "analysis is mitigated here by the extra $\\tau$ term from the prior).\n",
    "\n",
    "The properly normalized posterior pdf for $\\tau$ (valid for $\\tau > t$) is thus \n",
    "$$   p(\\tau \\,|\\, t,I) = \\frac{t}{\\tau^2}.$$\n",
    "  \n",
    "  \n",
    "The median $\\tau$ given by the posterior $p(\\tau \\,|\\, t,I)$ is now equal to $2t$, \n",
    "in agreement with our expectations. \n",
    "\n",
    "An interesting side result is that the p% quantiles \n",
    "are equal to ($1-t/\\tau$); for example, the 95% confidence region for $\\tau$, \n",
    "or **the credible region**, spans $1.03 t < \\tau < 40 t$. If we waited for a bus \n",
    "for just 1 minute, then, adopting the usual 95% confidence region, we cannot reject the \n",
    "possibility that $\\tau$ is as large as 40 minutes. \n",
    "\n",
    "Equivalently, if we waited for a \n",
    "bus for 1 minute, we can paraphrase Laplace and say that “it is a bet of 20 against 1 \n",
    "that the bus will arrive in the interval between 0.03 minutes and 39 minutes from now.”\n",
    "\n",
    "\n",
    "\n"
   ]
  },
  {
   "cell_type": "markdown",
   "metadata": {
    "slideshow": {
     "slide_type": "slide"
    }
   },
   "source": [
    "### Estimating multiple parameters: heteroscedastic Gaussian as an example\n",
    "\n",
    "\n",
    "Consider the case of measuring a rod as above.  We want to know the posterior pdf for the length of the rod, $p(M,\\theta|D,I) \\equiv p(\\mu|\\{x_i\\},\\{\\sigma_i\\},I)$.\n",
    "\n",
    "For the likelihood we have\n",
    "$$L = p(\\{x_i\\}|\\mu,I) = \\prod_{i=1}^N \\frac{1}{\\sigma_i\\sqrt{2\\pi}} \\exp\\left(\\frac{-(x_i-\\mu)^2}{2\\sigma_i^2}\\right).$$\n",
    "\n",
    "**In the Bayesian case, we also need a prior.**  We'll adopt a uniform distribution given by\n",
    "$$p(\\mu|I) = C, \\; {\\rm for} \\; \\mu_{\\rm min} < \\mu < \\mu_{\\rm max},$$\n",
    "where $C = \\frac{1}{\\mu_{\\rm max} - \\mu_{\\rm min}}$ between the min and max and is $0$ otherwise.\n",
    "\n",
    "The log of the posterior pdf is then\n",
    "$$\\ln L = {\\rm constant} - \\sum_{i=1}^N \\frac{(x_i - \\mu)^2}{2\\sigma_i^2}.$$\n",
    "\n",
    "This is exactly the same as we saw before, except that the value of the constant is different.  Since the constant doesn't come into play, we get the same result as before:\n",
    " \n",
    "$$\\mu^0 = \\frac{\\sum_i^N (x_i/\\sigma_i^2)}{\\sum_i^N (1/\\sigma_i^2)},$$\n",
    "with uncertainty\n",
    "$$\\sigma_{\\mu} = \\left( \\sum_{i=1}^N \\frac{1}{\\sigma_i^2}\\right)^{-1/2}.$$\n",
    " \n",
    " We get the same result because we used a flat prior. If the case were homoscedastic instead of heteroscedastic, we obviously would get the result from our first example.\n"
   ]
  },
  {
   "cell_type": "markdown",
   "metadata": {
    "slideshow": {
     "slide_type": "slide"
    }
   },
   "source": [
    "### Estimating multiple parameters: heteroscedastic Gaussian as an example\n",
    "\n",
    "\n",
    "Now let's consider the case where **$\\sigma$ is not known**, but rather it needs to be determined from the data, too.\n",
    "\n",
    "In this case, the posterior pdf that we seek is not $p(\\mu|\\{x_i\\},\\{\\sigma_i\\},I)$, but rather $p(\\mu,\\sigma|\\{x_i\\},I)$.\n",
    "\n",
    "As before we have\n",
    "$$L = p(\\{x_i\\}|\\mu,\\sigma,I) = \\prod_{i=1}^N \\frac{1}{\\sigma\\sqrt{2\\pi}} \\exp\\left(\\frac{-(x_i-\\mu)^2}{2\\sigma^2}\\right),$$\n",
    "except that now $\\sigma$ is uknown.\n",
    "\n",
    "Our Bayesian prior is now 2D instead of 1D and we'll adopt \n",
    "$$p(\\mu,\\sigma|I) \\propto \\frac{1}{\\sigma},\\; {\\rm for} \\; \\mu_{\\rm min} < \\mu < \\mu_{\\rm max} \\; {\\rm and} \\; \\sigma_{\\rm min} < \\sigma < \\sigma_{\\rm max}.$$\n",
    "\n",
    "With proper normalization, we have\n",
    "$$p(\\{x_i\\}|\\mu,\\sigma,I)p(\\mu,\\sigma|I) = C\\frac{1}{\\sigma^{(N+1)}}\\prod_{i=1}^N \\exp\\left( \\frac{-(x_i-\\mu)^2}{2\\sigma^2}  \\right),$$\n",
    "where\n",
    "$$C = (2\\pi)^{-N/2}(\\mu_{\\rm max}-\\mu_{\\rm min})^{-1} \\left[\\ln \\left( \\frac{\\sigma_{\\rm max}}{\\sigma_{\\rm min}}\\right) \\right]^{-1}.$$\n",
    "\n",
    "The log of the posterior pdf is\n",
    "\n",
    "$$\\ln[p(\\mu,\\sigma|\\{x_i\\},I)] = {\\rm constant} - (N+1)\\ln\\sigma - \\sum_{i=1}^N \\frac{(x_i - \\mu)^2}{2\\sigma^2}.$$\n",
    "\n",
    "This expression has $x_i$ in it, which isn't that helpful, but since we are assuming a Gaussian distribution, we can take advantage of the fact that the mean, $\\overline{x}$, and the variance, $V (=s^2)$, completely characterized the distribution.  So we can write this expression in terms of those variables instead of $x_i$.  Skipping over the math details (see textbook $\\S$5.6.1), we find\n",
    "\n",
    "$$\\ln[p(\\mu,\\sigma|\\{x_i\\},I)] = {\\rm constant} - (N+1)\\ln\\sigma - \\frac{N}{2\\sigma^2}\\left( (\\overline{x}-\\mu)^2 + V  \\right).$$\n",
    "\n",
    "Note that this expression only contains the 2 parameters that we are trying to determine: $(\\mu,\\sigma)$ and 3 values that we can determine directly from the data: $(N,\\overline{x},V)$. A side note: these three data-based values \n",
    "fully encapsulate our dataset and are called *sufficient statistics*.\n",
    "\n",
    "Load and execute the next cell to visualize the posterior pdf for the case of $(N,\\overline{x},V)=(10,1,4)$.  Remember to change `usetex=True` to `usetex=False` if you have trouble with the plotting.  Try changing the values of $(N,\\overline{x},V)$. \n",
    " "
   ]
  },
  {
   "cell_type": "code",
   "execution_count": 6,
   "metadata": {},
   "outputs": [
    {
     "data": {
      "image/png": "[encoded data removed]",
      "text/plain": [
       "<Figure size 720x540 with 2 Axes>"
      ]
     },
     "metadata": {
      "needs_background": "light"
     },
     "output_type": "display_data"
    }
   ],
   "source": [
    "# %load code/fig_likelihood_gaussian.py\n",
    "\"\"\"\n",
    "Log-likelihood for Gaussian Distribution\n",
    "----------------------------------------\n",
    "Figure5.4\n",
    "An illustration of the logarithm of the posterior probability density\n",
    "function for :math:`\\mu` and :math:`\\sigma`, :math:`L_p(\\mu,\\sigma)`\n",
    "(see eq. 5.58) for data drawn from a Gaussian distribution and N = 10, x = 1,\n",
    "and V = 4. The maximum of :math:`L_p` is renormalized to 0, and color coded as\n",
    "shown in the legend. The maximum value of :math:`L_p` is at :math:`\\mu_0 = 1.0`\n",
    "and :math:`\\sigma_0 = 1.8`. The contours enclose the regions that contain\n",
    "0.683, 0.955, and 0.997 of the cumulative (integrated) posterior probability.\n",
    "\"\"\"\n",
    "# Author: Jake VanderPlas\n",
    "# License: BSD\n",
    "#   The figure produced by this code is published in the textbook\n",
    "#   \"Statistics, Data Mining, and Machine Learning in Astronomy\" (2013)\n",
    "#   For more information, see http://astroML.github.com\n",
    "#   To report a bug or issue, use the following forum:\n",
    "#    https://groups.google.com/forum/#!forum/astroml-general\n",
    "import numpy as np\n",
    "from matplotlib import pyplot as plt\n",
    "from astroML.plotting.mcmc import convert_to_stdev\n",
    "\n",
    "#----------------------------------------------------------------------\n",
    "# This function adjusts matplotlib settings for a uniform feel in the textbook.\n",
    "# Note that with usetex=True, fonts are rendered with LaTeX.  This may\n",
    "# result in an error if LaTeX is not installed on your system.  In that case,\n",
    "# you can set usetex to False.\n",
    "from astroML.plotting import setup_text_plots\n",
    "setup_text_plots(fontsize=8, usetex=True)\n",
    "\n",
    "\n",
    "def gauss_logL(xbar, V, n, sigma, mu):\n",
    "    \"\"\"Equation 5.57: gaussian likelihood\"\"\"\n",
    "    return (-(n + 1) * np.log(sigma)\n",
    "            - 0.5 * n * ((xbar - mu) ** 2 + V) / sigma ** 2)\n",
    "\n",
    "#------------------------------------------------------------\n",
    "# Define the grid and compute logL\n",
    "sigma = np.linspace(1, 5, 70)\n",
    "mu = np.linspace(-3, 5, 70)\n",
    "xbar = 1\n",
    "V = 4\n",
    "n = 10\n",
    "\n",
    "logL = gauss_logL(xbar, V, n, sigma[:, np.newaxis], mu)\n",
    "logL -= logL.max()\n",
    "\n",
    "#------------------------------------------------------------\n",
    "# Plot the results\n",
    "fig = plt.figure(figsize=(10, 7.5))\n",
    "plt.imshow(logL, origin='lower',\n",
    "           extent=(mu[0], mu[-1], sigma[0], sigma[-1]),\n",
    "           cmap=plt.cm.binary,\n",
    "           aspect='auto')\n",
    "plt.colorbar().set_label(r'$\\ln(L)$')\n",
    "plt.clim(-5, 0)\n",
    "\n",
    "plt.contour(mu, sigma, convert_to_stdev(logL),\n",
    "            levels=(0.683, 0.955, 0.997),\n",
    "            colors='k')\n",
    "\n",
    "plt.text(0.5, 0.93, r'$L(\\mu,\\sigma)\\ \\mathrm{for}\\ \\bar{x}=1,\\ V=4,\\ n=10$',\n",
    "         bbox=dict(ec='k', fc='w', alpha=0.9),\n",
    "         ha='center', va='center', transform=plt.gca().transAxes)\n",
    "\n",
    "plt.xlabel(r'$\\mu$')\n",
    "plt.ylabel(r'$\\sigma$')\n",
    "\n",
    "plt.show()\n",
    "\n"
   ]
  },
  {
   "cell_type": "markdown",
   "metadata": {
    "slideshow": {
     "slide_type": "slide"
    }
   },
   "source": [
    "### Nuisance parameters and marginalization: heteroscedastic Gaussian as an example\n",
    " \n",
    "The plot from the previous cell is described by \n",
    "$$\\ln[p(\\mu,\\sigma|\\{x_i\\},I)] = {\\rm constant} - (N+1)\\ln\\sigma - \\frac{N}{2\\sigma^2}\\left( (\\overline{x}-\\mu)^2 + V  \\right).$$\n",
    " \n",
    " \n",
    "**A side note:** Had we assumed a uniform distribution of $\\sigma$, instead of ln($\\sigma$), then the factor multiplying ln($\\sigma$) would change from (N + 1) to N. This is related to the fact that the expression for\n",
    "the standard deviation has a term (N-1) rather than N, but we will leave detailed discussion for graduate school (or perhaps for the retirement home). \n",
    "\n",
    "Assume a case where $\\sigma$ is not crucially important to what we are after, e.g. it may \n",
    "simply represent how good our measuring apparatus is - what we might get a Nobel prize for \n",
    "is $\\mu$. Therefore, what we want is $p(\\mu|\\{x_i\\},I)$, rather than $p(\\mu,\\sigma|\\{x_i\\},I)$.\n",
    "We can get the former from the latter by the **marginalization over $\\sigma$**, which means\n",
    "integration of $p(\\mu,\\sigma|\\{x_i\\},I)$ over $\\sigma$: \n",
    "\n",
    "$$ p(\\mu\\,|\\,\\{x_i\\},I) = \\int_0^\\infty p(\\mu,\\sigma|\\{x_i\\},I) d\\sigma$$\n",
    "and thus (using the substitution $t$ = 1/$\\sigma$ and integration by parts)\n",
    "\n",
    "$$ p(\\mu\\,|\\,\\{x_i\\},I) \\propto \\left(1 + \\frac{(\\overline{x}-\\mu)^2}{V} \\right)^{-N/2}. $$\n",
    "\n",
    "It is easy to show that this result corresponds to Student’s t distribution (google it!) with \n",
    "k = N-1 degrees of freedom for the variable $t = (x-\\mu)/(s/\\sqrt{N})$, where $s$ is the sample \n",
    "standard deviation. Student’s t distribution is symmetric and bell shaped, but with heavier \n",
    "tails than for a Gaussian distribution.  \n",
    "\n",
    "**Hold on!** This is not a Gaussian distribution promised by the Central Limit Theorem!!! \n",
    "\n",
    "That's fine! The CLT promised a Gaussian only for large N. Indeed, the above expression\n",
    "(Student's t distribution) morphs into a Gaussian for large N - let's check!\n"
   ]
  },
  {
   "cell_type": "code",
   "execution_count": 7,
   "metadata": {},
   "outputs": [
    {
     "data": {
      "image/png": "[encoded data removed]",
      "text/plain": [
       "<Figure size 360x270 with 1 Axes>"
      ]
     },
     "metadata": {
      "needs_background": "light"
     },
     "output_type": "display_data"
    }
   ],
   "source": [
    "### let's see how Student's t distribution morphs into Gaussian distribution\n",
    "# let's first choose mean x and variance as in the previous example\n",
    "mu = np.linspace(-3, 5, 1000)\n",
    "xbar = 1.0\n",
    "V = 4.0\n",
    "\n",
    "# and now let's generate p(mu) for N=3, 10 and 20\n",
    "def compute_pmu(mu, xbar, V, N):\n",
    "    p = (1 + (xbar - mu) ** 2 / V) ** (-0.5 * N)\n",
    "    return p / np.sum(p)\n",
    "#\n",
    "N1 = 3\n",
    "pmu1 = compute_pmu(mu,xbar,V,N1)\n",
    "G1 = norm(xbar, np.sqrt(V/N1)).pdf(mu) \n",
    "G1norm = G1 / np.sum(G1)\n",
    "N2 = 10\n",
    "pmu2 = compute_pmu(mu,xbar,V,N2)\n",
    "G2 = norm(xbar, np.sqrt(V/N2)).pdf(mu) \n",
    "G2norm = G2 / np.sum(G2)\n",
    "N3 = 30\n",
    "pmu3 = compute_pmu(mu,xbar,V,N3)\n",
    "G3 = norm(xbar, np.sqrt(V/N3)).pdf(mu) \n",
    "G3norm = G3 / np.sum(G3)\n",
    " \n",
    "## plot\n",
    "fig, ax = plt.subplots(figsize=(5, 3.75))\n",
    "plt.plot(mu, pmu1, ls='-', c='blue', label=r'$N=3$')\n",
    "plt.plot(mu, G1norm, ls='--', c='blue', label=r'Gauss')\n",
    "plt.plot(mu, pmu2, ls='-', c='red', label=r'$N=10$')\n",
    "plt.plot(mu, G2norm, ls='--', c='red', label=r'Gauss')\n",
    "plt.plot(mu, pmu3, ls='-', c='black', label=r'$N=30$')\n",
    "plt.plot(mu, G3norm, ls='--', c='black', label=r'Gauss')\n",
    "\n",
    "plt.xlim(-3, 5)\n",
    "plt.ylim(0, 0.01)\n",
    "plt.xlabel('$\\mu$')\n",
    "plt.ylabel(r'$p(x_i|\\mu,\\sigma)$')\n",
    "plt.legend()\n",
    "plt.show() "
   ]
  },
  {
   "cell_type": "markdown",
   "metadata": {
    "slideshow": {
     "slide_type": "slide"
    }
   },
   "source": [
    "The top panels of the figure below (textbook figure 5.5, for the code see \n",
    "[astroML website](http://www.astroml.org/book_figures/chapter5/fig_posterior_gaussian.html)) show marginal distributions $p(\\mu)$ and $p(\\sigma)$.  The solid line is \n",
    "analytic Bayesian result with uninformative prior and the dotted line is the result for a uniform prior (note \n",
    "that there is not that much difference).  The dashed line is the MLE result, which is quite different.  The bottom panels show the cumulative distributions.\n",
    "\n",
    "![Ivezic, Figure 5.5](http://www.astroml.org/_images/fig_posterior_gaussian_1.png)\n",
    " "
   ]
  },
  {
   "cell_type": "markdown",
   "metadata": {
    "slideshow": {
     "slide_type": "slide"
    }
   },
   "source": [
    "The main result here is that **for smallish N ($<$10 or so), $p(\\mu)$ is not Gaussian!** \n",
    "\n",
    "The code above can be used to compute $p(\\mu)$ for arbitrary values of N, $\\overline{x}$ and V.\n",
    "\n",
    "For large N, Gaussian is a good approximation of $p(\\mu)$. "
   ]
  },
  {
   "cell_type": "code",
   "execution_count": null,
   "metadata": {},
   "outputs": [],
   "source": []
  }
 ],
 "metadata": {
  "kernelspec": {
   "display_name": "Python 3",
   "language": "python",
   "name": "python3"
  },
  "language_info": {
   "codemirror_mode": {
    "name": "ipython",
    "version": 3
   },
   "file_extension": ".py",
   "mimetype": "text/x-python",
   "name": "python",
   "nbconvert_exporter": "python",
   "pygments_lexer": "ipython3",
   "version": "3.7.4"
  }
 },
 "nbformat": 4,
 "nbformat_minor": 1
}
