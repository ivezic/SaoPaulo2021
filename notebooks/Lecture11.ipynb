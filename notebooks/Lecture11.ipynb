{
 "cells": [
  {
   "cell_type": "markdown",
   "metadata": {},
   "source": [
    "# Lecture 11: Introduction to Statistics and MLE method\n",
    "## Delivered by Prof. Laerte Sodre Jr."
   ]
  },
  {
   "cell_type": "markdown",
   "metadata": {},
   "source": [
    "#### This notebook was developed by [Zeljko Ivezic](http://faculty.washington.edu/ivezic/) for the 2021 data science class at the University of Sao Paulo and it is available from [github](https://github.com/ivezic/SaoPaulo2021/blob/main/notebooks/Lecture11.ipynb).\n",
    "\n",
    "Note: this notebook contains code developed by Z. Ivezic, M. Juric, A. Connolly, B. Sippocz, Jake VanderPlas, G. Richards and many others."
   ]
  },
  {
   "cell_type": "markdown",
   "metadata": {},
   "source": [
    "<a id='toc'></a>\n",
    "\n",
    "## This notebook includes:\n",
    "\n",
    "[Motivation and Goals](#goals)\n",
    "\n",
    "[IPython (jupyter) notebooks](#notebooks)\n",
    "\n",
    "[Basics about statistics](#basics) \n",
    "\n",
    "[Distributions and Random samples](#randoms)\n",
    "\n",
    "[Robust statistics](#robust)\n",
    "\n",
    "[Maximum likelihood method](#ML)"
   ]
  },
  {
   "cell_type": "markdown",
   "metadata": {},
   "source": [
    "## Motivation and Goals for Lectures 11-20  <a id='goals'></a>\n",
    "[Go to top](#toc)\n",
    "\n",
    "### Motivation\n",
    "    \n",
    "These lectures will introduce students to most common statistical and computer science methods \n",
    "used in astronomy and other physical sciences. They will combine theoretical background with \n",
    "concrete examples of data analysis based on modern astronomical datasets. This practical data \n",
    "analysis will be done using python tools and jupyter notebooks. \n",
    "\n",
    "While most practical examples are focused on astronomy, this course should be useful to all \n",
    "students interested in data analysis in physical sciences and engineering. The lectures are \n",
    "aimed at graduate and upper level undergraduate students, and the main discussion topics are \n",
    "by and large based on Chapters 3-10, from the reference textbook\n",
    "[Ivezić, Connolly, VanderPlas & Gray: Statistics, Data Mining, and Machine Learning in Astronomy:\n",
    "A Practical Python Guide for the Analysis of Survey Data (Princeton University Press, \n",
    "2014)](https://press.princeton.edu/books/hardcover/9780691198309/statistics-data-mining-and-machine-learning-in-astronomy)\n",
    " \n",
    "\n",
    "By taking this course, students will develop working knowledge of topics such as robust \n",
    "statistics, hypothesis testing, maximum likelihood analysis, Bayesian statistics, model \n",
    "parameter estimation, the goodness of fit and model selection, density estimation and \n",
    "clustering, unsupervised and supervised classification, dimensionality reduction, regression \n",
    "and time series analysis.  \n",
    "    \n",
    "    \n",
    "### Main Goals: \n",
    "1. Teach students pitfalls of working with real data, including robust statistics.  \n",
    "\n",
    "2. Introduce the main data science concepts, such as Maximum Likelihood method, \n",
    "   Bayesian statisticsm supervised and unsupervised\n",
    "   classification, dimensionality reduction, regression and time series analysis.\n",
    "\n",
    "3. Using a specific quantitative data-based class project, explore to a deeper level\n",
    "   above concepts, as well as additional methods such as regression and time \n",
    "   series analysis.  "
   ]
  },
  {
   "cell_type": "markdown",
   "metadata": {},
   "source": [
    "## A quick introduction to ipython (jupyter) notebooks  <a id='notebooks'></a>\n",
    "[Go to top](#toc)\n",
    "\n",
    "\n",
    "### Introduction\n",
    "\n",
    "In this notebook, we'll cover some basic statistics and we'll fit a line to a set of data points with Gaussian uncertainties in one dimension.   \n",
    "\n",
    "This worksheet is written in Python and it lives in an IPython notebook. In this context, you'll be asked to write a few lines of code to implement the sampler and the models but much of the boilerplate code is already in place. Therefore, even if you're not familiar with Python, you should be able to get something out of the notebook. I don't expect that everyone will finish the full notebook but that's fine because it has been designed to get more difficult as we progress.\n",
    "\n",
    "### How to use the notebook\n",
    "\n",
    "*If you're familiar with IPython notebooks, you can probably skip this section without missing anything.*\n",
    "\n",
    "IPython notebooks work by running a fully functional Python sever behind the scenes and if you're reading this then you probably already figured out how to get that running. Then, inside the notebook, the content is divided into cells containing code or text.\n",
    "\n",
    "You'll be asked to edit a few of the cells below to add your own code. To do this, click on the cell to start editing and then type as you normally would. To execute the code contained in the cell, press `Shift-Enter`. Even for existing cells that you don't need to edit, you should select them and type `Shift-Enter` when you get there because the cells below generally depend on the previous cells being executed first.\n",
    "\n",
    "To get started, edit the cell below to assign your name (or whatever you want) to the variable `name` and then press `Shift-Enter` to execute the cell."
   ]
  },
  {
   "cell_type": "code",
   "execution_count": 1,
   "metadata": {},
   "outputs": [
    {
     "name": "stdout",
     "output_type": "stream",
     "text": [
      "Hello ivezic!\n"
     ]
    }
   ],
   "source": [
    "import os\n",
    "name = os.getlogin()\n",
    "print(\"Hello {0}!\".format(name))"
   ]
  },
  {
   "cell_type": "markdown",
   "metadata": {},
   "source": [
    "If this works, the output should greet you without throwing any errors. If so, that's pretty much all we need so let's get started!"
   ]
  },
  {
   "cell_type": "markdown",
   "metadata": {},
   "source": [
    "## Basics about statistics <a id='basics'></a>\n",
    "[Go to top](#toc)\n",
    "\n",
    "##### Learning goals: \n",
    "- Probability Rules (notation, definitions, conditional probability, Bayes Rule).\n",
    "- How do I robustly estimate location and scale parameters of a one-dimensional data set?  \n",
    "- Statistical distributions and how do we describe them? \n",
    "- Estimators, location and scale, sample vs. population, bias and scatter."
   ]
  },
  {
   "cell_type": "markdown",
   "metadata": {},
   "source": [
    "### Notation and Variables\n",
    "\n",
    "First we need to go over some of the notation that the book uses.   \n",
    "\n",
    "$x$ is a scalar quantity, measured $N$ times\n",
    "\n",
    "$x_i$ is a single measurement with $i=1,...,N$\n",
    "\n",
    "$\\{x_i\\}$ refers to the set of all N measurements"
   ]
  },
  {
   "cell_type": "markdown",
   "metadata": {},
   "source": [
    "### Parametric vs. Non-parametric\n",
    "\n",
    "If we are attempting to guess a *model* for $h(x)$, then the process is *parametric*.  With a model solution we can generate new data that should mimic what we measure.\n",
    "\n",
    "If we are not attempting to guess a model, then the process is *nonparametic*.  That is we are just trying to describe the data that we see in the most compact manner that we can, but we are not trying to produce mock data."
   ]
  },
  {
   "cell_type": "markdown",
   "metadata": {},
   "source": [
    "## Probability\n",
    "\n",
    "The probability of $A$, $p(A)$, is the probability that some event will happen (say a coin toss), or if the process is continuous, the probability of $A$ falling in a certain range.  (N.B., Technically these two things are different and sometimes are indicated by $P$ and $p$, but we'll ignore that here).\n",
    "\n",
    "$p(A)$ must be positive definite for all $A$ and the sum/integral of the pdf must be unity.\n",
    "\n",
    "If we have two events, $A$ and $B$, the possible combinations are illustrated by the following figure:\n",
    "![Figure 3.1](http://www.astroml.org/_images/fig_prob_sum_1.png)\n",
    "\n",
    "$A \\cup B$ is the *union* of sets $A$ and $B$.\n",
    "\n",
    "$A \\cap B$ is the *intersection* of sets $A$ and $B$.\n",
    "\n",
    "The probability that *either* $A$ or $B$ will happen (which could include both) is the *union*, given by\n",
    "\n",
    "$$p(A \\cup B) = p(A) + p(B) - p(A \\cap B)$$\n",
    "\n",
    "The figure makes it clear why the last term is necessary.  Since $A$ and $B$ overlap, we are double-counting the region where *both* $A$ and $B$ happen, so we have to subtract this out.  \n"
   ]
  },
  {
   "cell_type": "markdown",
   "metadata": {},
   "source": [
    "The probability that *both* $A$ and $B$ will happen, $p(A \\cap B)$, is \n",
    "\n",
    "$$p(A \\cap B) = p(A|B)p(B) = p(B|A)p(A)$$\n",
    "\n",
    "where p(A|B) is the probability of A *given that* B is true and is called the *conditional probability*.  So the $|$ is short for \"given that\".\n",
    "\n",
    "In other words: *\"The probability that both A and B have occured is equal to the probability B has occured times the probability that A will occur if B occured\".*"
   ]
  },
  {
   "cell_type": "markdown",
   "metadata": {},
   "source": [
    "If events B_i are disjoint and their union is the set of all possible outcomes, then the **law of total probability** says that:\n",
    "\n",
    "$$p(A) = \\sum_ip(A|B_i)p(B_i)$$\n",
    "\n",
    "Example:\n",
    "\n",
    "    A = hit head on door frame, B = { is tall, is average, is short }\n",
    "    P(A) = P(A|is tall) + P(B|is average) + P(C|is short)"
   ]
  },
  {
   "cell_type": "markdown",
   "metadata": {},
   "source": [
    "N.B.  Just to be annoying, different people use different notation and the following all mean the same thing\n",
    "\n",
    "$$p(A \\cap B) = p(A,B) = p(AB) = p(A \\,{\\rm and}\\, B)$$\n",
    "\n",
    "We will use the comma notation as in the textbook."
   ]
  },
  {
   "cell_type": "markdown",
   "metadata": {},
   "source": [
    "It is important to realize that the following is *always* true\n",
    "$$p(A,B) = p(A|B)p(B) = p(B|A)p(A)$$\n",
    "\n",
    "However, if $A$ and $B$ are ***independent***, then \n",
    "\n",
    "$$p(A,B) = p(A)p(B)$$\n",
    "\n",
    "Example:\n",
    "\n",
    "     John is successful and John is a Libra.\n",
    "     \n",
    "In other words, ***knowing A happened tells us nothing about whether B happened (or will happen), and vice versa***."
   ]
  },
  {
   "cell_type": "markdown",
   "metadata": {},
   "source": [
    "Let's look at another example.\n",
    "\n",
    "If you have a bag with 5 marbles, 3 yellow and 2 blue and you want to know the probability of picking 2 yellow marbles in a row, that would be\n",
    "\n",
    "𝑝(𝑌1,𝑌2)=𝑝(𝑌1)𝑝(𝑌2|𝑌1).\n",
    " \n",
    "𝑝(𝑌1)=35  since you have an equally likely chance of drawing any of the 5 marbles.\n",
    "\n",
    "If you did not put the first marble back in the back after drawing it (sampling without \"replacement\"), then the probability  𝑝(𝑌2|𝑌1)=24 , so that\n",
    "𝑝(𝑌1,𝑌2)=3524=310.\n",
    " \n",
    "But if you put the first marble back, then  𝑝(𝑌2|𝑌1)=35=𝑝(𝑌2) , so that\n",
    "𝑝(𝑌1,𝑌2)=3535=925.\n",
    " \n",
    "In the first case  𝐴  and  𝐵  (or rather  𝑌1  and  𝑌2 ) are not independent, whereas in the second case they are."
   ]
  },
  {
   "cell_type": "markdown",
   "metadata": {},
   "source": [
    "Here is a more complicated example from \n",
    "[Jo Bovy's class at UToronto](http://astro.utoronto.ca/%7Ebovy/teaching.html)\n",
    "![Bovy_L1-StatMiniCourse_page21](figures/Bovy_L1-StatMiniCourse_page21.png)\n",
    "\n",
    "As illustrated, \n",
    "$$p(A \\,{\\rm or}\\, B|C) = p(A|C) + p(B|C) - p(A \\, {\\rm and}\\, B|C)$$ \n",
    "\n",
    "This illustration also explains why $$p(x|y)p(y) = p(y|x)p(x)$$ (used below),\n",
    "or in the notation of this figure: $$p(A \\, {\\rm and}\\, B) \\equiv p(A,B) = p(A|B)p(B) = p(B|A)p(A)$$\n",
    "\n"
   ]
  },
  {
   "cell_type": "markdown",
   "metadata": {},
   "source": [
    "Need more help with this? Try watching some Khan Academy videos and working through the exercises: https://www.khanacademy.org/math/probability/probability-geometry\n",
    "\n",
    "https://www.khanacademy.org/math/precalculus/prob-comb"
   ]
  },
  {
   "cell_type": "markdown",
   "metadata": {
    "slideshow": {
     "slide_type": "slide"
    }
   },
   "source": [
    "## Bayes' Rule"
   ]
  },
  {
   "cell_type": "markdown",
   "metadata": {
    "slideshow": {
     "slide_type": "slide"
    }
   },
   "source": [
    "We've seen that the probability of $x$ and $y$ occurring can be written as:\n",
    "\n",
    "$$p(x,y) = p(x|y)p(y) = p(y|x)p(x)$$\n",
    "\n",
    "We can define the ***marginal probability*** as\n",
    "\n",
    "$$p(x) = \\int p(x,y)dy,$$\n",
    "\n",
    "where marginal means the probability of $x$ occurring irrespective what $y$ is. This is essentially projecting on to one axis (integrating over the other axis, see the figure in the Notebook, below).\n",
    "\n",
    "Given these two, we can write:\n",
    "\n",
    "$$p(x) = \\int p(x|y)p(y) dy$$\n",
    "\n",
    "This is just the law of total probability, but for continous variables.\n",
    "\n",
    "**Note:** this is related to a much broader and deeper concept of Bayesian Statistics,\n",
    "which we will introduce in Lecture 12."
   ]
  },
  {
   "cell_type": "markdown",
   "metadata": {
    "slideshow": {
     "slide_type": "subslide"
    }
   },
   "source": [
    "## Marginal and contitional probability distributions\n",
    "\n",
    "In the following figure, we have a 2-D distribution in $x-y$ parameter space.  Here $x$ and $y$ are *not* independent as, once you pick a $y$, your values of $x$ are constrained.\n",
    "\n",
    "The *marginal* distributions are shown on the left and bottom sides of the left panel.  As the equation above says, this is just the integral along the $x$ direction for a given $y$ (left side panel) or the integral along the $y$ direction for a given $x$ (bottom panel).  \n",
    "\n",
    "The three panels on the right show the *conditional* probability (of $x$) for three $y$ values: $$p(x|y=y_0)$$  These are just \"slices\" through the 2-D distribution.\n",
    "\n",
    "![http://www.astroml.org/_images/fig_conditional_probability_1.png](http://www.astroml.org/_images/fig_conditional_probability_1.png)"
   ]
  },
  {
   "cell_type": "markdown",
   "metadata": {
    "slideshow": {
     "slide_type": "slide"
    }
   },
   "source": [
    "Then, again starting with:\n",
    "\n",
    "$$p(x|y)p(y) = p(y|x)p(x)$$\n",
    "\n",
    "we can write:\n",
    "\n",
    "$$p(y|x) = \\frac{p(x|y)p(y)}{p(x)} = \\frac{p(x|y)p(y)}{\\int p(x|y)p(y) dy}$$\n",
    "\n",
    "which in words says that\n",
    "\n",
    "> the (conditional) probability of $y$ given $x$ is just the (conditional) probability of $x$ given $y$ times the (marginal) probability of $y$ divided by the (marginal) probability of $x$, where the latter is just the integral of the numerator.\n",
    "\n",
    "This is **Bayes' rule**, which itself is not at all controversial, though its application can be as we'll discuss later (first in Lecture 12). "
   ]
  },
  {
   "cell_type": "markdown",
   "metadata": {},
   "source": [
    "## Distributions and Random samples <a id='randoms'></a>\n",
    "[Go to top](#toc)\n",
    "\n",
    "##### Learning goals: \n",
    "- How do I use python to generate various statistical distributions, such as Cauchy, Laplace, etc.? "
   ]
  },
  {
   "cell_type": "markdown",
   "metadata": {
    "slideshow": {
     "slide_type": "slide"
    }
   },
   "source": [
    "## Statistical distributions\n",
    "\n",
    "Typically, we collect some *samples* (series of measurements, or catalogs of stars) that can be thought of as being drawn from som underlying distribution (e.g., distribution of errors, or the distribution of stars in the Milky Way).\n",
    "\n",
    "We often don't care much about the individual samples, other than to use them ***to learn more about the underlying distributions and their properties (e.g., the mean (location), width (scale), etc.)***. How do we do that?"
   ]
  },
  {
   "cell_type": "markdown",
   "metadata": {
    "slideshow": {
     "slide_type": "slide"
    }
   },
   "source": [
    "![SlideGrab](figures/p5.jpg)"
   ]
  },
  {
   "cell_type": "markdown",
   "metadata": {
    "slideshow": {
     "slide_type": "slide"
    }
   },
   "source": [
    "Normal probability density function (pdf): $$p(x|\\mu,\\sigma) = \\frac{1}{\\sigma\\sqrt{2\\pi}} \\exp\\left(\\frac{-(x-\\mu)^2}{2\\sigma^2}\\right).$$\n",
    "\n",
    "Cumulative distribution function (cdf): $$\\Phi(x|\\mu,\\sigma) = \\int_{-\\infty}^{x}  p(x'|\\mu,\\sigma) dx' $$\n",
    "$$\\Phi(\\infty|\\mu,\\sigma) = 1.$$"
   ]
  },
  {
   "cell_type": "code",
   "execution_count": 2,
   "metadata": {},
   "outputs": [],
   "source": [
    "import numpy as np\n",
    "from matplotlib import pyplot as plt\n",
    "from scipy.stats import norm"
   ]
  },
  {
   "cell_type": "code",
   "execution_count": 3,
   "metadata": {},
   "outputs": [
    {
     "data": {
      "image/png": "[encoded data removed]",
      "text/plain": [
       "<Figure size 360x270 with 1 Axes>"
      ]
     },
     "metadata": {
      "needs_background": "light"
     },
     "output_type": "display_data"
    }
   ],
   "source": [
    "## Let's play with Gaussians! Or Normal distributions, N(mu,sigma)\n",
    "## see http://www.astroml.org/book_figures/chapter3/fig_gaussian_distribution.html\n",
    "## Example: IQ is (by definition) distributed as N(mu=100,sigma=15)\n",
    "## Let's plot the IQ distribution first\n",
    "# generate distribution for a grid of x values\n",
    "x = np.linspace(0, 200, 1000)\n",
    "mu=100\n",
    "sigma=15\n",
    "gauss = norm(mu, sigma).pdf(x)  # this is a function of x: gauss(x)\n",
    "# actual plotting\n",
    "fig, ax = plt.subplots(figsize=(5, 3.75))\n",
    "plt.plot(x, gauss, ls='-', c='black', label=r'$\\mu=%i,\\ \\sigma=%i$' % (mu, sigma))\n",
    "plt.xlim(0, 200)\n",
    "plt.ylim(0, 0.03)\n",
    "plt.xlabel('$x$')\n",
    "plt.ylabel(r'$p(x|\\mu,\\sigma)$')\n",
    "plt.title('Gaussian Distribution')\n",
    "plt.legend()\n",
    "plt.show()"
   ]
  },
  {
   "cell_type": "code",
   "execution_count": 4,
   "metadata": {},
   "outputs": [
    {
     "name": "stdout",
     "output_type": "stream",
     "text": [
      "0.0013498980316301035\n"
     ]
    }
   ],
   "source": [
    "## above we used probability density function (astronomers like to call it \"differential\" df)\n",
    "## the cumulative distribution function, cdf, is the integral of pdf from $x'=-\\infty$ to $x'=x$\n",
    "# What fraction of people have IQ>145 (in other words, what fraction of people are \"3-sigma\" above the average?\n",
    "gaussCDF = norm(mu, sigma).cdf(145)\n",
    "print (1-gaussCDF)"
   ]
  },
  {
   "cell_type": "code",
   "execution_count": 5,
   "metadata": {},
   "outputs": [
    {
     "name": "stdout",
     "output_type": "stream",
     "text": [
      "nSigma= 4.753424308817087\n",
      "IQ= 171.3013646322563\n"
     ]
    }
   ],
   "source": [
    "# What IQ corresponds to a \"one in a million people genius\"? \n",
    "nSigma = norm.ppf(1-1.0e-6)\n",
    "# norm.ppf returns x for specified cdf, assuming mu=0 and sigma=1 (\"standard normal pdf\")\n",
    "IQ = mu + nSigma*sigma\n",
    "print('nSigma=',nSigma)\n",
    "print('IQ=', IQ)"
   ]
  },
  {
   "cell_type": "code",
   "execution_count": 6,
   "metadata": {},
   "outputs": [
    {
     "name": "stdout",
     "output_type": "stream",
     "text": [
      "0.001321\n"
     ]
    }
   ],
   "source": [
    "# let's now look at the same problems using a sample of million points drawn from N(100,15)\n",
    "sampleSize=1000000 \n",
    "gaussSample = norm(mu, sigma).rvs(sampleSize) \n",
    "# What fraction of people have IQ>145?\n",
    "smartOnes = gaussSample[gaussSample>145]\n",
    "print (1.0*np.size(smartOnes)/sampleSize)"
   ]
  },
  {
   "cell_type": "code",
   "execution_count": 7,
   "metadata": {},
   "outputs": [
    {
     "name": "stdout",
     "output_type": "stream",
     "text": [
      "178.08565584727302\n"
     ]
    }
   ],
   "source": [
    "# What IQ corresponds to \"one in a million\"?  \n",
    "print(np.max(gaussSample))"
   ]
  },
  {
   "cell_type": "markdown",
   "metadata": {},
   "source": [
    "## Why do the two sets of results differ (0.00135 vs. 0.00138 and 171.3 vs. 176.8)?"
   ]
  },
  {
   "cell_type": "code",
   "execution_count": 8,
   "metadata": {},
   "outputs": [],
   "source": [
    "def printStats(v):\n",
    "    print('Size:', np.size(v))\n",
    "    print('min:', np.min(v))\n",
    "    print('max:', np.max(v))\n",
    "    print('mean:', np.mean(v))\n",
    "    print('median:', np.median(v))\n",
    "    print('st.dev.:', np.std(v))"
   ]
  },
  {
   "cell_type": "code",
   "execution_count": 9,
   "metadata": {},
   "outputs": [
    {
     "name": "stdout",
     "output_type": "stream",
     "text": [
      "Size: 1000000\n",
      "min: 29.96191477070849\n",
      "max: 178.08565584727302\n",
      "mean: 99.98313486277632\n",
      "median: 99.97043289295704\n",
      "st.dev.: 15.008769410658832\n"
     ]
    }
   ],
   "source": [
    "printStats(gaussSample)"
   ]
  },
  {
   "cell_type": "code",
   "execution_count": 10,
   "metadata": {},
   "outputs": [
    {
     "name": "stdout",
     "output_type": "stream",
     "text": [
      "Size: 1321\n",
      "min: 145.0036294837878\n",
      "max: 178.08565584727302\n",
      "mean: 149.30360116805895\n",
      "median: 148.21402961061517\n",
      "st.dev.: 4.019416901588777\n"
     ]
    }
   ],
   "source": [
    "printStats(smartOnes)"
   ]
  },
  {
   "cell_type": "code",
   "execution_count": 11,
   "metadata": {},
   "outputs": [
    {
     "name": "stdout",
     "output_type": "stream",
     "text": [
      "N(50 < IQ < 71):     26198\n",
      "N(26 < IQ < 51):     542\n"
     ]
    }
   ],
   "source": [
    "# What about the other end of the spectrum?\n",
    "print('N(50 < IQ < 71):    ', np.size(gaussSample[(gaussSample>50) & (gaussSample<71)]))\n",
    "print('N(26 < IQ < 51):    ', np.size(gaussSample[(gaussSample>26) & (gaussSample<51)]))"
   ]
  },
  {
   "cell_type": "markdown",
   "metadata": {
    "slideshow": {
     "slide_type": "slide"
    }
   },
   "source": [
    "### Gaussian confidence levels\n",
    "\n",
    "The probability of a measurement drawn from a Gaussian distribution that is between $\\mu-a$ and $\\mu+b$ is\n",
    "$$\\int_{\\mu-a}^{\\mu+b} p(x|\\mu,\\sigma) dx.$$\n",
    "For $a=b=1\\sigma$, we get the familar result of 68.3%.  For $a=b=2\\sigma$ it is 95.4%.  So we refer to the range $\\mu \\pm 1\\sigma$ and $\\mu \\pm 2\\sigma$ as the 68% and 95% **confidence limits**, respectively."
   ]
  },
  {
   "cell_type": "code",
   "execution_count": 12,
   "metadata": {
    "slideshow": {
     "slide_type": "slide"
    }
   },
   "outputs": [],
   "source": [
    "## now let's go back to the problem of estimating location and scale\n",
    "## given a sample, such as gaussSample above, how do we estimate its mu and sigma?"
   ]
  },
  {
   "cell_type": "markdown",
   "metadata": {
    "slideshow": {
     "slide_type": "slide"
    }
   },
   "source": [
    "![SlideGrab](figures/p4.jpg)"
   ]
  },
  {
   "cell_type": "markdown",
   "metadata": {
    "slideshow": {
     "slide_type": "slide"
    }
   },
   "source": [
    "![SlideGrab](figures/p3.jpg)"
   ]
  },
  {
   "cell_type": "markdown",
   "metadata": {
    "slideshow": {
     "slide_type": "slide"
    }
   },
   "source": [
    "### Sample vs. Population Statistics \n",
    "\n",
    "Statistics estimated from the *data* are called _sample statistics_ as compared to _population statistics_ which come from knowing the functional form of the pdf. For example, the expectation value for a known h(x) is\n",
    "\n",
    "$$\\mu \\equiv E(x) = \\int_{-\\infty}^{\\infty} x h(x) dx,$$\n",
    "\n",
    "where $h(x)$ must be properly normalized (the integral gets replaced by a sum for discrete distributions).\n",
    "\n",
    "E(x) is the expecation value of $x$.  If you want the expectation value of something else--say $x^2$ or $(x-\\mu)^2$, you replace $x$ with that. Importantly, the *variance* is the expectation value of $(x-\\mu)^2$\n",
    "\n",
    "$$\\sigma^2 \\equiv V = \\int_{-\\infty}^{\\infty}  (x-\\mu)^2 h(x) dx,$$\n",
    "\n",
    "where, again, the integral gets replaced by a sum for discrete distributions."
   ]
  },
  {
   "cell_type": "markdown",
   "metadata": {
    "slideshow": {
     "slide_type": "slide"
    }
   },
   "source": [
    "Specifically, $\\mu$ is the *population average*, i.e., it is the expecation value of $x$ for $h(x)$.  But we don't *know* $h(x)$! So we do the next best thing, and estimate it from the data:\n",
    "\n",
    "$$ \\hat{h}(x) = \\sum_{i=1}^N \\frac{\\delta_(x - x_i)}{N}$$\n",
    "\n",
    "Plugging into the previous equations, we derive the **sample mean**, $\\overline{x}$ as an *estimator* of $\\mu$ and defined as\n",
    "$$\\overline{x} \\equiv \\frac{1}{N}\\sum_{i=1}^N x_i,$$\n",
    "which we determine from the data itself. We'll hear more about estimators in Week 4."
   ]
  },
  {
   "cell_type": "markdown",
   "metadata": {
    "slideshow": {
     "slide_type": "slide"
    }
   },
   "source": [
    "Similarly, the **sample variance** ($s^2$, where \n",
    "$s$ is the sample standard deviation) is an *estimator* of $\\sigma^2$:\n",
    "$$s^2 \\equiv \\frac{1}{N-1}\\sum_{i=1}^N (x_i-\\overline{x})^2.$$\n",
    "\n",
    "**WAIT!!!** Why do we have (N-1) and not N (as in expression for the mean)???\n",
    "\n",
    "The reason for the (N-1) term instead of the naively expected N in the second expression is related to the fact that $\\overline{x}$ is also determined from data (we will discuss this subtle fact and the underlying statistical justification for the (N-1) term in more detail in Week 4 lectures. With N replaced by (N-1) (the so-called Bessel’s correction), the sample variance (i.e., $\\sigma^2$) becomes unbiased (and the sample standard deviation becomes a less biased, but on average still underestimated, estimator of the true standard deviation). \n",
    "\n",
    "What does \"biased\" mean? "
   ]
  },
  {
   "cell_type": "markdown",
   "metadata": {
    "slideshow": {
     "slide_type": "slide"
    }
   },
   "source": [
    "![SlideGrab](figures/p13.jpg)"
   ]
  },
  {
   "cell_type": "markdown",
   "metadata": {
    "slideshow": {
     "slide_type": "slide"
    }
   },
   "source": [
    "![SlideGrab](figures/p10.jpg)"
   ]
  },
  {
   "cell_type": "markdown",
   "metadata": {
    "slideshow": {
     "slide_type": "slide"
    }
   },
   "source": [
    "![SlideGrab](figures/p11.jpg)"
   ]
  },
  {
   "cell_type": "markdown",
   "metadata": {
    "slideshow": {
     "slide_type": "slide"
    }
   },
   "source": [
    "![SlideGrab](figures/p12.jpg)"
   ]
  },
  {
   "cell_type": "markdown",
   "metadata": {
    "slideshow": {
     "slide_type": "slide"
    }
   },
   "source": [
    "![SlideGrab](figures/p8.jpg)"
   ]
  },
  {
   "cell_type": "markdown",
   "metadata": {
    "slideshow": {
     "slide_type": "slide"
    }
   },
   "source": [
    "## WARNING: do not overinterpret simple statistics!\n",
    "\n",
    "Anscombe's quartet comprises four datasets that have nearly identical simple descriptive statistics, yet appear very different when graphed. \n",
    "\n",
    "![SlideGrab](figures/AnscombeQuartet.jpg)\n",
    "\n",
    "![SlideGrab](figures/AnscombeQuartetTable.jpg)\n",
    "\n"
   ]
  },
  {
   "cell_type": "markdown",
   "metadata": {},
   "source": [
    "## Robust statistics <a id='robust'></a>\n",
    "[Go to top](#toc)\n",
    "\n",
    "##### Learning goals: \n",
    "- How do I *robustly* estimate location and scale parameters of a one-dimensional data set?  \n",
    "\n",
    "**Robust** here means insensitive to outliers; for example, a single data point \n",
    "in a sample with a value going to infinity will result in the sample mean also\n",
    "going to infinity -- therefore, the sample mean is **not** a robust estimator.\n",
    "\n",
    "However, the sample median **is** a robust estimator: not only a single data point,\n",
    "but essentially 50% of all points can have values going to infinity and the sample median\n",
    "will remain unchanged! \n",
    "\n",
    "Similarly, to estimate the distribution width, instead of using standard deviation we\n",
    "can use the interquartile range. \n",
    "\n",
    "We will discuss robust statistics in more detail, and with numerical examples, later today. "
   ]
  },
  {
   "cell_type": "markdown",
   "metadata": {},
   "source": [
    "## Maximum Likelihood Estimation (MLE) Method<a id='ML'></a>\n",
    "[Go to top](#toc)"
   ]
  },
  {
   "cell_type": "markdown",
   "metadata": {},
   "source": [
    "### Topics for today: \n",
    "\n",
    "a) introduction: what likelihood is and what it is good for\n",
    "\n",
    "b) simple examples of MLE: one-dimensional gaussian\n",
    "\n",
    "c) MLE in action: fitting a parametrized model with heteroscedastic gaussian errors on y axis\n",
    "\n",
    "d) cost functions and penalized likelihood \n",
    "\n",
    "e) non-gaussian likelihood: binomial distribution (coin flip problem)\n",
    "\n",
    "f) conceptual difficulties with the MLE (example: \"waiting for a bus\" problem)\n",
    "\n",
    "g) what if we cannot write down the likelihood function? "
   ]
  },
  {
   "cell_type": "markdown",
   "metadata": {
    "slideshow": {
     "slide_type": "slide"
    }
   },
   "source": [
    "### a) introduction: what likelihood is and what it is good for\n",
    "\n",
    "#### Example: \n",
    "If I draw values from a Gaussian $N(\\mu, \\sigma)$, e.g. measuring quantity $\\mu$\n",
    "with uncertainty $\\sigma$ (somewhat erroneously a.k.a. “error bar”), \n",
    "\n",
    "then the probability that the measured value will be between $x$ and $x+dx$ is \n",
    "\n",
    "$$ p(x) = N(\\mu,\\sigma) * dx $$\n",
    "where\n",
    "      $$ N(\\mu,\\sigma) = \\frac{1}{\\sigma\\sqrt{2\\pi}} \\exp\\left(\\frac{-(x-\\mu)^2}{2\\sigma^2}\\right).$$\n",
    "\n",
    "\n",
    "For a sample of $N$ data points, $\\{x_i\\}$, where the uncertainty for each measurement is Gaussian with\n",
    "a known $\\sigma$, the likelihood of all N measurements is\n",
    "\n",
    "$$L \\equiv p(\\{x_i\\}|\\mu,\\sigma) = \\prod_{i=1}^N \\frac{1}{\\sigma\\sqrt{2\\pi}} \\exp\\left(\\frac{-(x_i-\\mu)^2}{2\\sigma^2}\\right).$$\n",
    "\n",
    "**An important assumption** that we made here is that random noise for different \n",
    "data points is independent (if it's not, we need to use methods such as Gaussian\n",
    "process modeling). This assumption allowed us to simply multiply the likelihoods\n",
    "for individual data points to obtain the likelihood of the whole dataset. \n",
    "\n",
    "\n",
    "Let's now see some numerical illustrations...\n",
    " "
   ]
  },
  {
   "cell_type": "code",
   "execution_count": 13,
   "metadata": {},
   "outputs": [],
   "source": [
    "from __future__ import print_function, division, absolute_import\n",
    "import numpy as np\n",
    "from matplotlib import pyplot as plt\n",
    "from scipy.stats import norm\n",
    "np.random.seed(42)\n",
    "%matplotlib inline  "
   ]
  },
  {
   "cell_type": "code",
   "execution_count": 14,
   "metadata": {},
   "outputs": [
    {
     "name": "stdout",
     "output_type": "stream",
     "text": [
      "our data points: [1.09934283 0.97234714 1.12953771]\n"
     ]
    }
   ],
   "source": [
    "### Let's draw a homoscedastic sample of {x_i} from a Gaussian and see what happens with L\n",
    "# first generate a sample of N points drawn from N(mu,sigma):\n",
    "sampleSize=3\n",
    "mu = 1.0\n",
    "sigma = 0.2 \n",
    "sample = norm(mu, sigma).rvs(sampleSize) \n",
    "print('our data points:', sample)"
   ]
  },
  {
   "cell_type": "code",
   "execution_count": 15,
   "metadata": {
    "scrolled": true
   },
   "outputs": [
    {
     "data": {
      "image/png": "[encoded data removed]",
      "text/plain": [
       "<Figure size 504x360 with 1 Axes>"
      ]
     },
     "metadata": {
      "needs_background": "light"
     },
     "output_type": "display_data"
    }
   ],
   "source": [
    "### Let's draw a homoscedastic sample of {x_i} from a Gaussian and see \n",
    "### what happens with L \n",
    "# now compute likelihoods for each point using true mu \n",
    "muGrid = np.linspace(0,2,1000)\n",
    "L1 = norm(sample[0], sigma).pdf(muGrid) \n",
    "L2 = norm(sample[1], sigma).pdf(muGrid) \n",
    "L3 = norm(sample[2], sigma).pdf(muGrid) \n",
    "L = L1 * L2 * L3\n",
    "# plot\n",
    "fig, ax = plt.subplots(figsize=(7, 5))\n",
    "plt.plot(muGrid, L1, ls='-', c='green', label=r'$L(x_1)$')\n",
    "plt.plot(muGrid, L2, ls='-', c='red', label=r'$L(x_2)$')\n",
    "plt.plot(muGrid, L3, ls='-', c='blue', label=r'$L(x_3)$')\n",
    "plt.plot(muGrid, L, ls='-', c='black', label=r'$L(\\{x\\})$')\n",
    "\n",
    "plt.xlim(0.2, 1.8)\n",
    "plt.ylim(0, 8.0)\n",
    "plt.xlabel('$\\mu$')\n",
    "plt.ylabel(r'$p(x_i|\\mu,\\sigma)$')\n",
    "plt.title('Likelihood for 3 data points drawn from a Gaussian Distribution')\n",
    "plt.legend()\n",
    "plt.show() "
   ]
  },
  {
   "cell_type": "code",
   "execution_count": 16,
   "metadata": {},
   "outputs": [
    {
     "data": {
      "image/png": "[encoded data removed]",
      "text/plain": [
       "<Figure size 504x360 with 1 Axes>"
      ]
     },
     "metadata": {
      "needs_background": "light"
     },
     "output_type": "display_data"
    }
   ],
   "source": [
    "### What happens when we have one precise and one lousy measurement? \n",
    "L1 = norm(0.8, 0.05).pdf(muGrid)    \n",
    "L2 = norm(1.2, 0.40).pdf(muGrid)     ## this is the lousy one: sigma = 0.4 >> 0.05\n",
    "L = L1 * L2 \n",
    "# plot\n",
    "fig, ax = plt.subplots(figsize=(7, 5))\n",
    "plt.plot(muGrid, L1, ls='-', c='green', label=r'$L(x_1): good$')\n",
    "plt.plot(muGrid, L2, ls='-', c='red', label=r'$L(x_2): lousy$')\n",
    "plt.plot(muGrid, L, ls='-', c='black', label=r'$L(\\{x\\}): weighted$')\n",
    "\n",
    "plt.xlim(0.2, 1.8)\n",
    "plt.ylim(0, 9.5)\n",
    "plt.xlabel('$\\mu$')\n",
    "plt.ylabel(r'$p(x_i|\\mu,\\sigma)$')\n",
    "plt.title('Weighted measurements (not normalized)')\n",
    "plt.legend()\n",
    "plt.show() \n",
    " "
   ]
  },
  {
   "cell_type": "markdown",
   "metadata": {
    "slideshow": {
     "slide_type": "slide"
    }
   },
   "source": [
    "**If either of the two likelihoods (or one of the likelihood and prior pair) is \n",
    "the Dirac's $\\delta$ function (\"zero width\"), the posterior is the same delta function.**\n",
    " "
   ]
  },
  {
   "cell_type": "code",
   "execution_count": 17,
   "metadata": {
    "scrolled": true
   },
   "outputs": [
    {
     "data": {
      "image/png": "[encoded data removed]",
      "text/plain": [
       "<Figure size 504x360 with 1 Axes>"
      ]
     },
     "metadata": {
      "needs_background": "light"
     },
     "output_type": "display_data"
    }
   ],
   "source": [
    "### Same as above, but with 10 points and on log scale\n",
    "sampleSize=10\n",
    "sampleBig = norm(mu, sigma).rvs(sampleSize) \n",
    "lnL = 0*muGrid\n",
    "# compute and plot\n",
    "fig, ax = plt.subplots(figsize=(7, 5))\n",
    "for i in range(0,sampleSize):\n",
    "    lnLone = np.log(norm(sampleBig[i], sigma).pdf(muGrid)) \n",
    "    plt.plot(muGrid, lnLone, ls='-', c='blue')\n",
    "    lnL += lnLone \n",
    "plt.plot(muGrid, lnL, ls='--', c='green', label=r'$L(\\{x\\})$')\n",
    "\n",
    "plt.axhline(y=0.0, color='red', linestyle='-')\n",
    "plt.xlim(0.2, 1.8)\n",
    "plt.ylim(-20.0, 8.0)\n",
    "plt.xlabel('$\\mu$')\n",
    "plt.ylabel(r'$ln[p(x_i|\\mu,\\sigma)]$')\n",
    "plt.title('Ln(likelihood) for data drawn from a Gaussian Distribution')\n",
    "plt.legend()\n",
    "plt.show() "
   ]
  },
  {
   "cell_type": "markdown",
   "metadata": {
    "slideshow": {
     "slide_type": "slide"
    }
   },
   "source": [
    "#### Important Notes: \n",
    "- likelihood values can be very small - the use of ln() (natural logarithm; giving log-likelihood) helps with displaying large dynamic range\n",
    "- the use of ln()  is even more important when likelihoods for individual data points are multiplied: the product of likelihoods becomes a sum of ln(likelihood)\n",
    "- the sample likelihood is not a true probability distribution - its integral is not 1! \n",
    "- the more data we add, the more \"peaked\" is the likelihood $L(\\{x\\})$ around\n",
    "  the true value of $\\mu$ (=1.0); this is the famous $1/\\sqrt{N}$ behavior and we'll return to this point\n",
    "\n"
   ]
  },
  {
   "cell_type": "markdown",
   "metadata": {
    "slideshow": {
     "slide_type": "slide"
    }
   },
   "source": [
    "#### Example: \n",
    "If I draw values from a Gaussian $N(\\mu, \\sigma)$, e.g. measuring quantity mu\n",
    "with uncertainty $\\sigma$ (somewhat erroneously a.k.a. “error bar”), \n",
    "\n",
    "then the probability that the measured value will be between $x$ and $x+dx$ is \n",
    "\n",
    "$$ p(x) = N(\\mu,\\sigma) * dx $$\n",
    "where\n",
    "      $$ N(\\mu,\\sigma) = \\frac{1}{\\sigma\\sqrt{2\\pi}} \\exp\\left(\\frac{-(x-\\mu)^2}{2\\sigma^2}\\right).$$\n",
    "\n",
    "\n",
    "\n",
    "#### What's so special about Gaussian (normal) distribution? \n",
    "- a Gaussian comes from the Central Limit Theorem (the mean of samples drawn from an almost \n",
    "    arbitrary distribution will follow a Gaussian distribution) \n",
    "- Gaussians have nice properties (convolution, Fourier transform, independence of mean and variance)\n",
    "- Poisson distribution morphs into a Gaussian distribution for large $\\mu$\n",
    "\n",
    "** but likelihood function doesn’t have to be a gaussian!!! ** (it could be, e.g., exponential, \n",
    "uniform, poisson, or double gaussian distribution)\n",
    "\n",
    "  "
   ]
  },
  {
   "cell_type": "markdown",
   "metadata": {
    "slideshow": {
     "slide_type": "slide"
    }
   },
   "source": [
    "### a) introduction: what likelihood is and what it is good for\n",
    "\n",
    "In everyday life, \"likelihood\" is often used as a synonym for \"probability.” \n",
    "\n",
    "In statistics, **probability is used before data are available** to describe possible future \n",
    "outcomes given fixed model parameters (“a function of x with theta fixed”, like above), \n",
    "while **likelihood is used after data are available** to describe a function of model parameters \n",
    "for a given outcome (“a function of theta with x fixed”). ** But it's the same function (as above)!**\n",
    "\n",
    "The two main reasons we are talking about the likelihood function\n",
    "\n",
    "- Maximum Likelihood Estimation (MLE) is one of the most important methods in statistics\n",
    "- The likelihood function is a crucial ingredient in the Bayesian framework (note for later: in case of flat priors, MLE produces numerically identical result as the Bayesian Maximum A Posteriori, MAP, estimate)"
   ]
  },
  {
   "cell_type": "markdown",
   "metadata": {
    "slideshow": {
     "slide_type": "slide"
    }
   },
   "source": [
    "### Maximum Likelihood Estimation (MLE) is one of the most important methods in statistics \n",
    "\n",
    "**MLE:** Assume that the likelihood function is given by\n",
    "$$L(\\mu,\\sigma) \\equiv p(\\{x_i\\}|\\mu,\\sigma) = \\prod_{i=1}^N \\frac{1}{\\sigma\\sqrt{2\\pi}} \\exp\\left(\\frac{-(x_i-\\mu)^2}{2\\sigma^2}\\right).$$\n",
    "\n",
    "An astronomical example of the above would be velocity measurements for the Milky\n",
    "Way halo stars ($\\mu \\sim 0$ km/s, $\\sigma \\sim 100$ km/s), with measurement\n",
    "uncertainties negligible compared to $\\sigma$ (say, $\\sim1$ km/s).\n",
    "\n",
    "We can make use of   \n",
    "$$\\prod_{i=1}^n A_i \\exp(-B_i) = (A_iA_{i+1}\\ldots A_n) \\exp[-(B_i+B_{i+1}+\\ldots+B_n)]$$\n",
    "and obtain\n",
    "$$lnL(\\mu,\\sigma) \\equiv ln[p(\\{x_i\\}|\\mu,\\sigma)] = const. - \\frac{1}{2}\\sum_{i=1}^N \\frac{(x_i-\\mu)^2}{\\sigma^2}.$$\n",
    "\n",
    "** An important side note** \n",
    "In case of gaussian likelihood, maximizing $lnL$ is equivalent to \n",
    "minimizing \"chi-square\"\n",
    "$$\\chi2 = \\sum_{i=1}^N \\frac{(x_i-\\mu)^2}{\\sigma^2}.$$ \n",
    "In other words,\n",
    "$$ L \\propto exp(-\\frac{\\chi^2}{2}).$$\n",
    "\n",
    "** MLE estimates** \n",
    "\n",
    "The best estimates of $\\mu$ and $\\sigma$ are those that maximize $L(\\mu,\\sigma)$, or $lnL(\\mu,\\sigma)$,\n",
    "for a given dataset $\\{x_i\\}$ ($i=1..N$).\n",
    "\n",
    "E.g. the MLE for $\\mu$, usually called $\\hat \\mu$ (and sometimes \n",
    "$\\mu_0$), is obtained from \n",
    "$$\\frac{d\\;{lnL}(\\mu)}{d\\mu}\\Biggr\\rvert_{\\hat \\mu} \\equiv 0,$$\n",
    "\n",
    "\n",
    "** Uncertainties of MLE estimates** \n",
    "\n",
    "The uncertainty of this estimate is fully captured by the likelihood function, \n",
    "but we'd like to quantify it with a few numbers. We *define* the uncertainty \n",
    "on our MLEs using second (partial) derivatives of log-likelihood:\n",
    "\n",
    "$$\\sigma_{jk} = \\left([F^{-1}]_{jk}\\right)^{1/2},$$\n",
    "where $\\theta$ is a vector of model parameters.\n",
    "\n",
    "$[F^{-1}]_{jk}$ is an element of the inverse of the covariance matrix $F$, defined as  \n",
    "$$F_{jk} = -\\frac{d^2}{d\\theta_j} \\frac{\\ln L}{d\\theta_k} \\Biggr\\rvert_{\\theta=\\hat \\theta}.$$\n",
    "\n",
    "The marginal uncertainty for each model parameter, $\\theta_i$, are given by the diagonal \n",
    "elements, $\\sigma_{ii}$. These are the \"error bars\" that are typically quoted with each measurement.\n",
    "\n",
    "In the one-dimensional case discussed above, we have\n",
    "$$\\sigma_{\\mu} = \\left( - \\frac{d^2 ln L}{d\\mu^2}  \\Biggr\\rvert_{\\mu=\\hat \\mu}\\right)^{-1/2},$$\n",
    "\n",
    "\n"
   ]
  },
  {
   "cell_type": "markdown",
   "metadata": {
    "slideshow": {
     "slide_type": "slide"
    }
   },
   "source": [
    "### b) simple examples of MLE: one-dimensional gaussian\n",
    "\n",
    "#### Maximum Likelihood Estimation (MLE) applied to a Heteroscedastic Gaussian\n",
    "\n",
    "For example, assume $N$ measurements, $\\{x_i\\}$, where the uncertainty for each measurement is Gaussian with\n",
    "a known $\\sigma_i$. The likelihood of one measurement is \n",
    "\n",
    "$$p(x_i|\\mu,\\sigma_i) = \\frac{1}{\\sigma_i\\sqrt{2\\pi}} \\exp\\left(\\frac{-(x_i-\\mu)^2}{2\\sigma_i^2}\\right).$$\n",
    "\n",
    "\n",
    "and therefore the likelihood of all N measurements is\n",
    "\n",
    "$$L \\equiv p(\\{x_i\\}|\\mu,\\sigma_i) = \\prod_{i=1}^N \\frac{1}{\\sigma_i\\sqrt{2\\pi}} \\exp\\left(\\frac{-(x_i-\\mu)^2}{2\\sigma_i^2}\\right).$$\n",
    "\n",
    "An astronomical example of the above would be measurements of the mass\n",
    "of an object, $\\mu$ (that is, there is no intrinsic $\\sigma$, only measurement\n",
    "errors $\\sigma_i$).\n",
    "\n",
    "The more convenient log-likelihood is \n",
    "$$\\ln L = {\\rm constant} - \\sum_{i=1}^N \\frac{(x_i - \\mu)^2}{2\\sigma_i^2}.$$\n",
    "\n",
    "Taking the derivative:\n",
    "$$\\frac{d\\;{\\rm lnL}(\\mu)}{d\\mu}\\Biggr\\rvert_{\\mu_0} = \\sum_{i=1}^N \\frac{(x_i - \\mu_o)}{\\sigma_i^2} = 0,$$\n",
    "then simplifying:\n",
    "\n",
    "$$\\sum_{i=1}^N \\frac{x_i}{\\sigma_i^2} = \\sum_{i=1}^N \\frac{\\mu_o}{\\sigma_i^2},$$\n",
    "\n",
    "yields a MLE solution of \n",
    "$$\\mu_0 = \\frac{\\sum_i^N (x_i/\\sigma_i^2)}{\\sum_i^N (1/\\sigma_i^2)},$$\n",
    "\n",
    "with uncertainty (from the second derivative)\n",
    "$$\\sigma_{\\mu} = \\left( \\sum_{i=1}^N \\frac{1}{\\sigma_i^2}\\right)^{-1/2}.$$\n",
    "\n",
    " \n",
    "In case of homoscedastic uncertainties, we get the familiar expression\n",
    "$$\\sigma_{\\mu} = \\frac{\\sigma}{\\sqrt{N}}.$$\n",
    "\n",
    "\n",
    "** Know your likelihood! **\n",
    "\n",
    "The result for $\\sigma_{\\mu}$ has been derived by expanding $\\ln L$ in a Taylor \n",
    "series and retaining terms up to second order (essentially, the surface of $\\ln L$ \n",
    "is approximated by a parabola, or an ellipsoidal surface in multidimensional cases, \n",
    "around its maximum). If this expansion is exact (as is the case for a Gaussian error \n",
    "distribution), then we've completely captured the error information (see illustration\n",
    "below). \n",
    "\n",
    "In general, this is not the case and the likelihood surface can significantly deviate \n",
    "from a smooth elliptical surface. Furthermore, it often happens in practice that the \n",
    "likelihood surface is multimodal. It is always a good idea to visualize the likelihood \n",
    "surface when in doubt.\n",
    " "
   ]
  },
  {
   "cell_type": "code",
   "execution_count": 18,
   "metadata": {},
   "outputs": [
    {
     "data": {
      "image/png": "[encoded data removed]",
      "text/plain": [
       "<Figure size 720x540 with 2 Axes>"
      ]
     },
     "metadata": {
      "needs_background": "light"
     },
     "output_type": "display_data"
    }
   ],
   "source": [
    "\"\"\"\n",
    "Log-likelihood for Gaussian Distribution\n",
    "----------------------------------------\n",
    "Figure5.4\n",
    "An illustration of the logarithm of the posterior probability density\n",
    "function for :math:`\\mu` and :math:`\\sigma`, :math:`L_p(\\mu,\\sigma)`\n",
    "(see eq. 5.58) for data drawn from a Gaussian distribution and N = 10, x = 1,\n",
    "and V = 4. The maximum of :math:`L_p` is renormalized to 0, and color coded as\n",
    "shown in the legend. The maximum value of :math:`L_p` is at :math:`\\mu_0 = 1.0`\n",
    "and :math:`\\sigma_0 = 1.8`. The contours enclose the regions that contain\n",
    "0.683, 0.955, and 0.997 of the cumulative (integrated) posterior probability.\n",
    "\"\"\"\n",
    "# Author: Jake VanderPlas\n",
    "# License: BSD\n",
    "#   The figure produced by this code is published in the textbook\n",
    "#   \"Statistics, Data Mining, and Machine Learning in Astronomy\" (2013)\n",
    "#   For more information, see http://astroML.github.com\n",
    "#   To report a bug or issue, use the following forum:\n",
    "#    https://groups.google.com/forum/#!forum/astroml-general\n",
    "import numpy as np\n",
    "from matplotlib import pyplot as plt\n",
    "from astroML.plotting.mcmc import convert_to_stdev\n",
    "\n",
    "#----------------------------------------------------------------------\n",
    "# This function adjusts matplotlib settings for a uniform feel in the textbook.\n",
    "# Note that with usetex=True, fonts are rendered with LaTeX.  This may\n",
    "# result in an error if LaTeX is not installed on your system.  In that case,\n",
    "# you can set usetex to False.\n",
    "from astroML.plotting import setup_text_plots\n",
    "setup_text_plots(fontsize=8, usetex=True)\n",
    "\n",
    "\n",
    "def gauss_logL(xbar, V, n, sigma, mu):\n",
    "    \"\"\"Equation 5.57: gaussian likelihood\"\"\"\n",
    "    return (-(n + 1) * np.log(sigma)\n",
    "            - 0.5 * n * ((xbar - mu) ** 2 + V) / sigma ** 2)\n",
    "\n",
    "#------------------------------------------------------------\n",
    "# Define the grid and compute logL\n",
    "sigma = np.linspace(1, 5, 70)\n",
    "mu = np.linspace(-3, 5, 70)\n",
    "xbar = 1\n",
    "V = 4\n",
    "n = 10\n",
    "\n",
    "logL = gauss_logL(xbar, V, n, sigma[:, np.newaxis], mu)\n",
    "logL -= logL.max()\n",
    "\n",
    "#------------------------------------------------------------\n",
    "# Plot the results\n",
    "fig = plt.figure(figsize=(10, 7.5))\n",
    "plt.imshow(logL, origin='lower',\n",
    "           extent=(mu[0], mu[-1], sigma[0], sigma[-1]),\n",
    "           cmap=plt.cm.binary,\n",
    "           aspect='auto')\n",
    "plt.colorbar().set_label(r'$\\ln(L)$')\n",
    "plt.clim(-5, 0)\n",
    "\n",
    "plt.contour(mu, sigma, convert_to_stdev(logL),\n",
    "            levels=(0.683, 0.955, 0.997),\n",
    "            colors='k')\n",
    "\n",
    "plt.text(0.5, 0.93, r'$L(\\mu,\\sigma)\\ \\mathrm{for}\\ \\bar{x}=1,\\ V=4,\\ n=10$',\n",
    "         bbox=dict(ec='k', fc='w', alpha=0.9),\n",
    "         ha='center', va='center', transform=plt.gca().transAxes)\n",
    "\n",
    "plt.xlabel(r'$\\mu$')\n",
    "plt.ylabel(r'$\\sigma$')\n",
    "\n",
    "plt.show()\n",
    "\n"
   ]
  },
  {
   "cell_type": "code",
   "execution_count": 19,
   "metadata": {},
   "outputs": [],
   "source": [
    "import numpy as np\n",
    "from matplotlib import pyplot as plt\n",
    "from scipy import stats\n",
    "from scipy.stats import norm\n",
    "from astroML.plotting import hist\n",
    "np.random.seed(42)\n",
    "from astroML.plotting import setup_text_plots\n",
    "setup_text_plots(fontsize=8, usetex=True)"
   ]
  },
  {
   "cell_type": "markdown",
   "metadata": {
    "slideshow": {
     "slide_type": "slide"
    }
   },
   "source": [
    "### Confidence Interval vs. Credible Region\n",
    "\n",
    "In case of homoscedastic gaussian uncertainties, our estimator of $\\mu$ is \n",
    "$\\overline{x}\\pm\\frac{\\sigma}{\\sqrt{N}}$, which is a result that you are most likely familiar with.\n",
    "\n",
    "In the **frequentist paradigm**, the meaning of the *confidence interval* $\\mu_0 \\pm \\sigma_{\\mu}$ is \n",
    "the interval that would contain the true $\\mu$ (from which the data were drawn) in 68% cases\n",
    "of a large number of imaginary repeated experiments (each with a different N values of $\\{x_i\\}$). \n",
    "If we repeated the same measurement a hundred times, we'd find for 68 experiments the true value \n",
    "was within their computed confidence intervals ($1 \\sigma$ errors).\n",
    " \n",
    "\n",
    "Numerically, the same interval follows from the **Bayesian approach** with uniform priors.\n",
    "However, the meaning of that so-called *credible region* is *fundamentally different*: it is the interval\n",
    "that contains the true $\\mu$ with a probability of 68%, given the given dataset (our dear one and only \n",
    "dataset - there are no imaginary experiments in Bayesian paradigm). This credible region is the \n",
    "relevant quantity in the context of scientific measurements. \n",
    "\n",
    "For more details, read\n",
    "- [E.T. Jaynes: ``Confidence Intervals vs. Bayesian intervals''](http://bayes.wustl.edu/etj/articles/confidence.pdf)\n",
    "\n",
    "- [Jake's excellent blog](http://jakevdp.github.io/blog/2014/06/12/frequentism-and-bayesianism-3-confidence-credibility/)\n",
    "  \n",
    "\n",
    "### The Essence of the Bayesian Method \n",
    "\n",
    "The basic premise of the Bayesian method is that probability statements are not limited to data, \n",
    "but can be made for model parameters and models themselves. Inferences are made by producing \n",
    "probability density functions (pdfs); most notably, **model parameters are treated as random variables**.\n",
    "\n",
    "\n",
    "\n",
    "### Properties of ML Estimators\n",
    "\n",
    "Assuming the data truly are drawn from the model, ML estimators have the following useful properties:\n",
    "\n",
    "* **They are consistent estimators**; that is, they can be proven to converge to the true parameter value as the number of data points increases.\n",
    "* **They are asymptotically normal estimators**. The distribution of the parameter estimate, as the number of data points increases to infinity, approaches a normal distribution, centered at the MLE, with a certain spread. This spread can often be easily calculated and used as a confidence band around the estimate.\n",
    "* **They asymptotically achieve the theoretical minimum possible variance for an unbiased estimator, called the Cramér–Rao bound**. In other words, they achieve the best possible error given the data at hand; that is, no other estimator can do better in terms of efficiently using each data point to reduce the total error of the estimate.\n",
    "\n",
    "### Summary of the Maximum Likelihood Approach\n",
    "\n",
    "Maximum likelihood estimation consists of the following conceptual steps:\n",
    "\n",
    "1. **Hypothesis**: Formulate a model, a *hypothesis*, about how the data are generated. For example, this could be a statement that the data are a measurement of some quantity that come with Gaussian random errors (i.e., each measurement is equal to the true value, plus a deviation randomly drawn from the normal distribution). Models are typically described using a set of model parameters $\\boldsymbol{\\theta}$, and written as $\\boldsymbol{M}(\\boldsymbol{\\theta})$.\n",
    "2. **Maximum Likelihood Estimation**: Search for the \"best\" model parameters $\\boldsymbol{\\theta}$ which maximize the ***likelihood*** $L(\\boldsymbol{\\theta}) \\equiv p(D|M)$. This search yields the MLE *point estimates*, $\\boldsymbol{\\theta_0}$ (or $\\hat\\theta$).\n",
    "3. **Quantifying Estimate Uncertainty**: Determine the confidence region for model parameters, $\\boldsymbol{\\theta_0}$. Such a confidence estimate can be obtained analytically (possibly with some approximations), but can also be done numerically for arbitrary models using general frequentist techniques, such as bootstrap, jackknife, and cross-validation.\n",
    "4. **Hypothesis Testing**: Perform hypothesis tests as needed to make other conclusions about models and point estimates. Possibly GOTO #1.\n",
    "\n",
    "While these steps represent a blueprint for the frequentist approach in general, the likelihood is just one of many possible so-called objective functions (also called fitness functions, or cost functions). \n"
   ]
  },
  {
   "cell_type": "markdown",
   "metadata": {
    "slideshow": {
     "slide_type": "slide"
    }
   },
   "source": [
    "### c) MLE in action: fitting a parametrized model with heteroscedastic gaussian errors on y axis\n",
    "\n",
    "\n",
    "Let us assume that we have $N$ pairs of measurements, $\\{x_i, y_i\\}$, where uncertainties for \n",
    "$\\{x_i\\}$ are negligible and uncertainty for each measurement $y_i$ is Gaussian and described\n",
    "by a known $\\sigma_i$. We also postulate that $\\{y_i\\}$ can be modeled as \n",
    "$$ y_i = f(x_i,\\theta) + N(0,\\sigma_i),$$\n",
    "where $f(x,\\theta)$ is some function of $x$ and a vector of model parameters $\\theta$. \n",
    "\n",
    "For example, for the straight line fit, we have $f(x_i,\\theta) = \\theta_0 + \\theta_1 x_i$. \n",
    "\n",
    "Because the noise is gaussian, the data likelihood can be written as \n",
    "$$L \\equiv p(\\{x_i, y_i\\}|\\theta,\\sigma_i) = \\prod_{i=1}^N \\frac{1}{\\sigma_i\\sqrt{2\\pi}} \\exp\\left(\\frac{-(y_i-f(x_i,\\theta))^2}{2\\sigma_i^2}\\right).$$\n",
    "\n",
    "The more convenient log-likelihood is \n",
    "$$\\ln L = {\\rm constant} - \\frac{1}{2}\\sum_{i=1}^N \\frac{[y_i - f(x_i,\\theta)]^2}{\\sigma_i^2}.$$\n",
    "\n",
    "and we can estimate model parameters from\n",
    "$$\\frac{d\\;{\\rm lnL}(\\theta_k)}{d\\theta_k}\\Biggr\\rvert_{\\hat \\theta_k} \\equiv 0, $$  \n",
    "and their uncertainties from the inverse of the covariance matrix, as was discussed above.\n",
    " \n",
    "In case of straight line fit, we can even derive a closed-form solution for the line slope\n",
    "and intercept - this is the famous **Least Squares Method**. Now you know why the *squares*\n",
    "of the residuals are minimized: because the square comes from the argument in the exponential\n",
    "term of the *gaussian* error distribution!  But it doesn't have to be gaussian - and this\n",
    "LSQ is not a universal method! For a different error distribution, you get a different \n",
    "result (e.g. exponential distribution, double-gaussian distribution). \n",
    "\n",
    "### An excellent astronomical example: the PSF (point-spread-function) flux \n",
    "\n",
    "We adopt a model $f(x_i, A) = A*psf(x_i)$, where we assumed \n",
    "- vector x_i corresponds to two-dimensional position in an image\n",
    "- vector y_i corresponds to measured counts at position x_i\n",
    "- the psf profile, $psf(x)$, is known, including centering \n",
    " \n",
    "Assuming homoscedastic errors, $\\sigma$ (case of faint sources, where the noise is dominated\n",
    "by the background, and not by the source), it is easy to show (try it!) by maximizing \n",
    "likelihood as a function of the single model parameter $A$ that the ML estimate for A is \n",
    "$$  \\hat A = \\sum_i \\frac{y_i * psf(x_i)}{psf(x_i)^2}, $$\n",
    "where it PSF normalization is assumed ($\\sum_i psf(x_i) = 1$).  And by using the second\n",
    "derivative, you can show that the uncertainty of this estimate is \n",
    "\n",
    "$$ \\sigma_A = \\left( \\frac{\\sigma^2}{\\sum_i psf(x_i)^2} \\right)^{1/2}.$$\n",
    "\n",
    "\n",
    "For more details, see Section 4.3 (page 10) in \n",
    "[LSST Document LSE‐40 (The LSST Photon Rates and SNR Calculations, v1.2)](http://faculty.washington.edu/ivezic/Teaching/Astr511/LSST_SNRdoc.pdf)"
   ]
  },
  {
   "cell_type": "markdown",
   "metadata": {
    "slideshow": {
     "slide_type": "slide"
    }
   },
   "source": [
    "###  d) cost functions and penalized likelihood \n",
    "\n",
    "We obtained model parameters by maximizing log-likelihood\n",
    "$$\\ln L = {\\rm constant} - \\frac{1}{2}\\sum_{i=1}^N \\frac{[y_i - f(x_i,\\theta)]^2}{\\sigma_i^2}.$$\n",
    "\n",
    "This likelihood is just one of many possible so-called objective functions, or cost functions. \n",
    "Here the cost function quantifies some “cost” associated with parameter estimation. \n",
    "\n",
    "The expectation value of the cost function is called “risk” and can be minimized to obtain \n",
    "best-fit parameters. An often used form of risk is the mean integrated square error (MISE)\n",
    "defined as,\n",
    "$$ MISE = \\int_{-\\infty}^{\\infty} [y(x) − f(x)]^2 dx, $$\n",
    "where $y(x)$ is data and $f(x)$ is model for $f(x)$ (note the assumption of homoscedastic \n",
    "errors). The MISE measures how “close” is our model estimate $f(x)$ to the measured $y(x)$. \n",
    "\n",
    "The MISE is based on a cost function given by the mean squared error, also known as L2 norm. \n",
    "A cost function that minimizes absolute deviation is called L1 norm. The MLE applied to a \n",
    "Gaussian likelihood leads to an L2 cost function (e.g. the least squares method). \n",
    "If data instead followed the Laplace (exponential) distribution, the MLE would yield an \n",
    "L1 cost function (which is much more robust to outliers from a gaussian distribution). \n",
    "\n",
    "Outliers can be easily treated by modifying the cost function for ordinary LSQ. \n",
    "An example is the Huber loss function. With $t = [y(x) − f(x)]$, \n",
    "  \n",
    "<img src=\"figures/huber1.png\" alt=\"Drawing\" style=\"width: 250px;\"/>\n",
    "<img src=\"figures/huber2.png\" alt=\"Drawing\" style=\"width: 500px;\"/>\n",
    " "
   ]
  },
  {
   "cell_type": "markdown",
   "metadata": {
    "slideshow": {
     "slide_type": "slide"
    }
   },
   "source": [
    "### e) non-gaussian likelihood: binomial distribution\n",
    "\n",
    "** Likelihood does not have to be gaussian! **\n",
    " \n",
    "Let us assume that we studied $N = 10$ galaxies and found a black hole in $k = 4$ of them. \n",
    "Our best estimate for the fraction of galaxies with black holes is $b_o = k/N = 0.4$. \n",
    "An interesting question is, “What is the probability that, say, $b < 0.1$?”. For example, \n",
    "your colleague’s theory placed *an upper limit of 10%* for the fraction of galaxies with \n",
    "black holes and you want to test this theory using classical framework “Can it be rejected \n",
    "at a confidence level $\\alpha = 0.01$?”.\n",
    "\n",
    "In other words, if the probability of $b < 0.1$, given data, is smaller than 0.01 (that is,\n",
    "the probability of $b > 0.1$ is larger than 0.99) we reject the theory (in classical statistical \n",
    "hypothesis testing), and if the probability of $b < 0.1$ is larger than 0.01 we cannot reject\n",
    "the theory (which, of course, does not prove that the theory is correct!). \n",
    "\n",
    "** Mathematically, this example is exactly the same as the famous coin flip problem **\n",
    "\n",
    "Here the data set $\\{x_i\\}$ is discrete: all outcomes are either 0 (heads) or 1 (tails, which we will consider “success”). \n",
    "\n",
    "Given a model parametrized by the probability of success (i.e. tails) $b$, the likelihood that the data set \n",
    "contains k outcomes equal to 1 is given by \n",
    "  $$    p(k\\,|\\,b, N) = \\frac{N!}{k! \\, (N-k)!} \\, b^k \\, (1-b)^{N-k} $$\n",
    "  \n",
    "MLE seeks the value of $b$ which maximizes $p(k\\,|\\,b, N)$ for given $k$ and $N$.\n",
    "It's easy to show that the MLE solution is $b_o=k/N$. \n",
    "\n",
    "For large N, the uncertainty of $b_o$ \n",
    "is approximately Gaussian and given by \n",
    "$$ \\sigma_b = \\left[\\frac{b_o \\, (1-b_o)}{N}\\right]^{1/2}. $$\n",
    "\n",
    " "
   ]
  },
  {
   "cell_type": "code",
   "execution_count": 20,
   "metadata": {},
   "outputs": [
    {
     "data": {
      "image/png": "[encoded data removed]",
      "text/plain": [
       "<Figure size 648x360 with 2 Axes>"
      ]
     },
     "metadata": {
      "needs_background": "light"
     },
     "output_type": "display_data"
    }
   ],
   "source": [
    "# Author: Jake VanderPlas\n",
    "# License: BSD\n",
    "#   The figure produced by this code is published in the textbook\n",
    "#   \"Statistics, Data Mining, and Machine Learning in Astronomy\" (2013)\n",
    "#   For more information, see http://astroML.github.com\n",
    "#   To report a bug or issue, use the following forum:\n",
    "#    https://groups.google.com/forum/#!forum/astroml-general\n",
    "import numpy as np\n",
    "from scipy.stats import norm, binom\n",
    "from matplotlib import pyplot as plt\n",
    "\n",
    "#------------------------------------------------------------\n",
    "# Plot posterior as a function of b\n",
    "n = 10  # number of points\n",
    "k = 4  # number of successes from n draws\n",
    "\n",
    "b = np.linspace(0, 1, 100)\n",
    "db = b[1] - b[0]\n",
    "\n",
    "# compute the probability p(b) (eqn. 5.70)\n",
    "p_b = b ** k * (1 - b) ** (n - k)\n",
    "p_b /= p_b.sum()\n",
    "p_b /= db\n",
    "cuml_p_b = p_b.cumsum()\n",
    "cuml_p_b /= cuml_p_b[-1]\n",
    "\n",
    "# compute the gaussian approximation (eqn. 5.71)\n",
    "b0 = k * 1. / n\n",
    "sigb = np.sqrt(b0*(1-b0)/n)\n",
    "p_g = norm(b0, sigb).pdf(b)\n",
    "cuml_p_g = p_g.cumsum()\n",
    "cuml_p_g /= cuml_p_g[-1]\n",
    "\n",
    "#------------------------------------------------------------\n",
    "# Plot the results\n",
    "fig = plt.figure(figsize=(9, 5))\n",
    "fig.subplots_adjust(left=0.11, right=0.95, wspace=0.35, bottom=0.18)\n",
    "\n",
    "ax = fig.add_subplot(121)\n",
    "ax.plot(b, p_b, '-b')\n",
    "ax.plot(b, p_g, '--r')\n",
    "\n",
    "ax.set_ylim(-0.05, np.max(p_b)*1.1)\n",
    "\n",
    "ax.set_xlabel('$b$')\n",
    "ax.set_ylabel('$p(b|x,I)$')\n",
    "plt.title('blue: exact; red: Gaussian approximation')\n",
    "\n",
    "\n",
    "ax = fig.add_subplot(122, yscale='log')\n",
    "ax.plot(b, cuml_p_b, '-b')\n",
    "ax.plot(b, cuml_p_g, '--r')\n",
    "ax.plot([0.1, 0.1], [1E-6, 2], ':k')\n",
    "plt.title('cumulative pdf')\n",
    "\n",
    "\n",
    "ax.set_xlabel('$b$')\n",
    "ax.set_ylabel('$P(<b|x,I)$')\n",
    "ax.set_ylim(1E-6, 2)\n",
    "\n",
    "plt.show()"
   ]
  },
  {
   "cell_type": "markdown",
   "metadata": {
    "slideshow": {
     "slide_type": "slide"
    }
   },
   "source": [
    "### f) conceptual difficulties with the MLE \n",
    "\n",
    "#### An example of a difficulty with the MLE : \"waiting for a bus\" problem\n",
    " \n",
    "Imagine you arrive at a bus stop, and observe that the bus arrives $t$ minutes later \n",
    "(it is assumed that you had no knowledge about the bus schedule). What is the mean time \n",
    "between two successive buses, $\\tau$, if the buses keep a regular schedule? \n",
    "\n",
    "It is easy to derive an intuitive answer. The wait time is distributed uniformly in the interval $0 \\le t \\le \\tau$, and on average you would wait for $t=\\tau/2$ minutes.  Rearranging this gives $\\tau = 2t$, which agrees with intuition.\n",
    "\n",
    "What does the maximum likelihood approach give? \n",
    "\n",
    "The probability that you will wait $t$ \n",
    "minutes (the likelihood of data) is given by the uniform distribution (every $t$ is equally likely)\n",
    "$$ p(t\\,|\\,\\tau) =  1/\\tau, $$\n",
    "if $0 \\le t \\le \\tau$ and $p(t|\\tau)=0$ otherwise.\n",
    "\n",
    "\n",
    "Because we only observe a single point, the data likelihood is simply equal to this probability. \n",
    "The maximum likelihood, then, corresponds to the smallest possible $\\tau$ such that $t \\le \\tau$: \n",
    "this is satisfied by $\\tau = t$ and not $\\tau=2t$ as we expected!!\n",
    "\n",
    "Computing the expectation value or the median for $\\tau$ does not help either because\n",
    "the resulting integrals diverge. These puzzling results are resolved by the use of appropriate prior\n",
    "information, as will be discussed in a moment. We shall see several other examples later where the\n",
    "addition of extra information changes the results we would get from the maximum likelihood\n",
    "approach.\n",
    "\n",
    "The Bayesian method is not, however, motivated by the differences in results\n",
    "between maximum likelihood and Bayesian techniques.  These differences are\n",
    "often negligible, especially when the data sets are large.  Rather, **the Bayesian\n",
    "method is motivated by its ability to provide a full probabilistic framework\n",
    "for data analysis**. One of the most important aspects of Bayesian analysis is the \n",
    "ability to straightforwardly incorporate unknown or uninteresting model \n",
    "parameters, the so-called nuisance parameters, in data analysis. "
   ]
  },
  {
   "cell_type": "markdown",
   "metadata": {
    "slideshow": {
     "slide_type": "slide"
    }
   },
   "source": [
    "### For completeness: Bayesian solution to \"bus arrival problem\" (we will go through details in Lecture 12)\n",
    " \n",
    "\n",
    "In our **bus arrival problem**, $\\tau$ is unknown model parameter and data (datum) is $t$. The\n",
    "posterior pdf for $\\tau$ is (we ignore normalization): \n",
    "$$p(\\tau\\,|\\,t, I) \\propto p(t\\,|\\,\\tau,I) \\, p(\\tau\\,|\\,I).$$\n",
    "\n",
    "The likelihood of data is given by the uniform distribution (every $t$ is equally likely, with \n",
    "$0 \\le t \\le \\tau$):\n",
    "$$ p(t\\,|\\,\\tau,I) =  1/\\tau. $$  \n",
    "\n",
    "Following the Principle of Invariance, we assign the prior\n",
    "$$ p(\\tau\\,|\\,I) = 1/ \\tau.$$\n",
    "\n",
    "Note: the two pdfs look the same but this is essentially a coincidence. \n",
    "\n",
    "So, we have \n",
    "    $$p(\\tau \\,|\\, t,I) \\propto  \\frac{1}{\\tau^2},$$\n",
    "for $\\tau > t$ and 0 otherwise. We use normalization constraint \n",
    "$$ \\int_t^\\infty p(\\tau\\,|\\,I)d\\tau = \\int_t^\\infty \\frac{C}{\\tau^2} d\\tau \\equiv 1,$$\n",
    "to get $C=t$ (the divergent integral over $\\tau$ encountered in the maximum likelihood \n",
    "analysis is mitigated here by the extra $\\tau$ term from the prior).\n",
    "\n",
    "The properly normalized posterior pdf for $\\tau$ (valid for $\\tau > t$) is thus \n",
    "$$   p(\\tau \\,|\\, t,I) = \\frac{t}{\\tau^2}.$$\n",
    "  \n",
    "  \n",
    "The median $\\tau$ given by the posterior $p(\\tau \\,|\\, t,I)$ is now equal to $2t$, \n",
    "in agreement with our expectations. \n",
    "\n",
    "An interesting side result is that the p% quantiles \n",
    "are equal to ($1-t/\\tau$); for example, the 95% confidence region for $\\tau$, \n",
    "or **the credible region**, spans $1.03 t < \\tau < 40 t$. If we waited for a bus \n",
    "for just 1 minute, then, adopting the usual 95% confidence region, we cannot reject the \n",
    "possibility that $\\tau$ is as large as 40 minutes. \n",
    "\n",
    "Equivalently, if we waited for a \n",
    "bus for 1 minute, we can paraphrase Laplace and say that “it is a bet of 20 against 1 \n",
    "that **the bus will arrive in the interval between 0.03 minutes and 39 minutes from now**.”\n",
    "\n",
    "\n",
    "\n"
   ]
  },
  {
   "cell_type": "markdown",
   "metadata": {
    "slideshow": {
     "slide_type": "slide"
    }
   },
   "source": [
    "### g) what if we cannot write down the likelihood function? \n",
    "\n",
    "Sometimes you need to think harder. If no success, one can use methods\n",
    "such as **Approximate Bayesian Computation** (ABC).  ABC is essentially a\n",
    "rejection algorithm that only \"accepts\" model parameter values (drawn\n",
    "from prior) for which some judiciously chosen \"summary statistic\" is \n",
    "\"close enough\" to its value computed from data. \n",
    "\n",
    "We don't have time to discuss ABC in depth, but you can look it up on Wikipedia! \n",
    "\n",
    "https://en.wikipedia.org/wiki/Approximate_Bayesian_computation\n",
    "\n",
    "In addition, here is a \n",
    "[practical ABC example from astroML](https://www.astroml.org/book_figures/chapter5/fig_ABCexample.html)\n"
   ]
  },
  {
   "cell_type": "markdown",
   "metadata": {
    "slideshow": {
     "slide_type": "slide"
    }
   },
   "source": [
    " \n",
    "\n",
    "### What did we learn today? \n",
    "\n",
    "1. Likelihood function plays a central role in both frequentist and Bayesian\n",
    "data analysis - it encapsulates our knowledge (beliefs) about the data generation process\n",
    "\n",
    "2. In frequentist framework, likelihood is only one of possible cost functions; in Bayesian\n",
    "   framework, it plays a major role. \n",
    "\n",
    "3. Maximum likelihood method provides theoretical foundations for many common results\n",
    "(e.g. weighted mean) and enables fitting of complex functions to data.\n",
    "\n",
    "4. For normal (gaussian) distribution, MLE method becomes $\\chi^2$ minimization. \n",
    "\n",
    "5. **Likelihood doesn't have to be gaussian** - indeed, sometimes it's impossible to \n",
    "write it down!\n",
    "\n",
    "6. ML method, while exceedingly useful, can sometimes produce counter-intuitive results - Bayes to the rescue! \n",
    "\n",
    "\n"
   ]
  }
 ],
 "metadata": {
  "kernelspec": {
   "display_name": "Python 3",
   "language": "python",
   "name": "python3"
  },
  "language_info": {
   "codemirror_mode": {
    "name": "ipython",
    "version": 3
   },
   "file_extension": ".py",
   "mimetype": "text/x-python",
   "name": "python",
   "nbconvert_exporter": "python",
   "pygments_lexer": "ipython3",
   "version": "3.7.4"
  }
 },
 "nbformat": 4,
 "nbformat_minor": 1
}
